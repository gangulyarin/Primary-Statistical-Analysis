{
 "cells": [
  {
   "cell_type": "code",
   "execution_count": 1,
   "metadata": {},
   "outputs": [],
   "source": [
    "from __future__ import print_function, division\n",
    "\n",
    "import nsfg"
   ]
  },
  {
   "cell_type": "code",
   "execution_count": 2,
   "metadata": {},
   "outputs": [
    {
     "name": "stdout",
     "output_type": "stream",
     "text": [
      "   caseid  pregordr  howpreg_n  howpreg_p  moscurrp  nowprgdk  pregend1  \\\n",
      "0       1         1        NaN        NaN       NaN       NaN       6.0   \n",
      "1       1         2        NaN        NaN       NaN       NaN       6.0   \n",
      "2       2         1        NaN        NaN       NaN       NaN       5.0   \n",
      "3       2         2        NaN        NaN       NaN       NaN       6.0   \n",
      "4       2         3        NaN        NaN       NaN       NaN       6.0   \n",
      "\n",
      "   pregend2  nbrnaliv  multbrth  ...  laborfor_i  religion_i  metro_i  \\\n",
      "0       NaN       1.0       NaN  ...           0           0        0   \n",
      "1       NaN       1.0       NaN  ...           0           0        0   \n",
      "2       NaN       3.0       5.0  ...           0           0        0   \n",
      "3       NaN       1.0       NaN  ...           0           0        0   \n",
      "4       NaN       1.0       NaN  ...           0           0        0   \n",
      "\n",
      "       basewgt  adj_mod_basewgt      finalwgt  secu_p  sest  cmintvw  \\\n",
      "0  3410.389399      3869.349602   6448.271112       2     9      NaN   \n",
      "1  3410.389399      3869.349602   6448.271112       2     9      NaN   \n",
      "2  7226.301740      8567.549110  12999.542264       2    12      NaN   \n",
      "3  7226.301740      8567.549110  12999.542264       2    12      NaN   \n",
      "4  7226.301740      8567.549110  12999.542264       2    12      NaN   \n",
      "\n",
      "   totalwgt_lb  \n",
      "0       8.8125  \n",
      "1       7.8750  \n",
      "2       9.1250  \n",
      "3       7.0000  \n",
      "4       6.1875  \n",
      "\n",
      "[5 rows x 244 columns]\n"
     ]
    }
   ],
   "source": [
    "preg = nsfg.ReadFemPreg()\n",
    "print(preg.head())"
   ]
  },
  {
   "cell_type": "code",
   "execution_count": 3,
   "metadata": {},
   "outputs": [
    {
     "data": {
      "text/plain": [
       "Index(['caseid', 'pregordr', 'howpreg_n', 'howpreg_p', 'moscurrp', 'nowprgdk',\n",
       "       'pregend1', 'pregend2', 'nbrnaliv', 'multbrth',\n",
       "       ...\n",
       "       'laborfor_i', 'religion_i', 'metro_i', 'basewgt', 'adj_mod_basewgt',\n",
       "       'finalwgt', 'secu_p', 'sest', 'cmintvw', 'totalwgt_lb'],\n",
       "      dtype='object', length=244)"
      ]
     },
     "execution_count": 3,
     "metadata": {},
     "output_type": "execute_result"
    }
   ],
   "source": [
    "preg.columns"
   ]
  },
  {
   "cell_type": "code",
   "execution_count": 4,
   "metadata": {},
   "outputs": [
    {
     "data": {
      "text/plain": [
       "pandas.core.series.Series"
      ]
     },
     "execution_count": 4,
     "metadata": {},
     "output_type": "execute_result"
    }
   ],
   "source": [
    "type(preg['pregordr'])"
   ]
  },
  {
   "cell_type": "code",
   "execution_count": 5,
   "metadata": {},
   "outputs": [
    {
     "data": {
      "text/plain": [
       "0        1\n",
       "1        2\n",
       "2        1\n",
       "3        2\n",
       "4        3\n",
       "        ..\n",
       "13588    1\n",
       "13589    2\n",
       "13590    3\n",
       "13591    4\n",
       "13592    5\n",
       "Name: pregordr, Length: 13593, dtype: int64"
      ]
     },
     "execution_count": 5,
     "metadata": {},
     "output_type": "execute_result"
    }
   ],
   "source": [
    "preg['pregordr']"
   ]
  },
  {
   "cell_type": "code",
   "execution_count": 6,
   "metadata": {},
   "outputs": [
    {
     "data": {
      "text/plain": [
       "0         6448.271112\n",
       "1         6448.271112\n",
       "2        12999.542264\n",
       "3        12999.542264\n",
       "4        12999.542264\n",
       "             ...     \n",
       "13588     6269.200989\n",
       "13589     6269.200989\n",
       "13590     6269.200989\n",
       "13591     6269.200989\n",
       "13592     6269.200989\n",
       "Name: finalwgt, Length: 13593, dtype: float64"
      ]
     },
     "execution_count": 6,
     "metadata": {},
     "output_type": "execute_result"
    }
   ],
   "source": [
    "preg['finalwgt']"
   ]
  },
  {
   "cell_type": "code",
   "execution_count": 7,
   "metadata": {},
   "outputs": [
    {
     "data": {
      "text/plain": [
       "0.0     1037\n",
       "8.0      756\n",
       "6.0      709\n",
       "2.0      603\n",
       "11.0     557\n",
       "12.0     555\n",
       "5.0      535\n",
       "3.0      533\n",
       "4.0      525\n",
       "9.0      505\n",
       "7.0      501\n",
       "13.0     487\n",
       "10.0     475\n",
       "14.0     475\n",
       "1.0      408\n",
       "15.0     378\n",
       "Name: birthwgt_oz, dtype: int64"
      ]
     },
     "execution_count": 7,
     "metadata": {},
     "output_type": "execute_result"
    }
   ],
   "source": [
    "preg['birthwgt_oz'].value_counts()"
   ]
  },
  {
   "cell_type": "code",
   "execution_count": 8,
   "metadata": {},
   "outputs": [],
   "source": [
    "%config IPCompleter.greedy=True"
   ]
  },
  {
   "cell_type": "code",
   "execution_count": 9,
   "metadata": {},
   "outputs": [
    {
     "data": {
      "text/plain": [
       "0        8.8125\n",
       "1        7.8750\n",
       "2        9.1250\n",
       "3        7.0000\n",
       "4        6.1875\n",
       "          ...  \n",
       "13588    6.1875\n",
       "13589       NaN\n",
       "13590       NaN\n",
       "13591    7.5000\n",
       "13592    7.5000\n",
       "Name: totalwgt_lb, Length: 13593, dtype: float64"
      ]
     },
     "execution_count": 9,
     "metadata": {},
     "output_type": "execute_result"
    }
   ],
   "source": [
    "preg['totalwgt_lb']"
   ]
  },
  {
   "cell_type": "code",
   "execution_count": 10,
   "metadata": {},
   "outputs": [
    {
     "data": {
      "text/plain": [
       "1    9148\n",
       "2    1862\n",
       "3     120\n",
       "4    1921\n",
       "5     190\n",
       "6     352\n",
       "Name: outcome, dtype: int64"
      ]
     },
     "execution_count": 10,
     "metadata": {},
     "output_type": "execute_result"
    }
   ],
   "source": [
    "preg['outcome'].value_counts().sort_index()"
   ]
  },
  {
   "cell_type": "code",
   "execution_count": 11,
   "metadata": {},
   "outputs": [
    {
     "data": {
      "text/plain": [
       "0.0        8\n",
       "1.0       40\n",
       "2.0       53\n",
       "3.0       98\n",
       "4.0      229\n",
       "5.0      697\n",
       "6.0     2223\n",
       "7.0     3049\n",
       "8.0     1889\n",
       "9.0      623\n",
       "10.0     132\n",
       "11.0      26\n",
       "12.0      10\n",
       "13.0       3\n",
       "14.0       3\n",
       "15.0       1\n",
       "Name: birthwgt_lb, dtype: int64"
      ]
     },
     "execution_count": 11,
     "metadata": {},
     "output_type": "execute_result"
    }
   ],
   "source": [
    "preg['birthwgt_lb'].value_counts().sort_index()"
   ]
  },
  {
   "cell_type": "code",
   "execution_count": 12,
   "metadata": {},
   "outputs": [
    {
     "data": {
      "text/plain": [
       "'\\nvalue\\tlabel\\t \\t        Total\\n1\\tLIVE BIRTH              9148\\n2\\tINDUCED ABORTION        1862\\n3\\tSTILLBIRTH               120\\n4\\tMISCARRIAGE             1921\\n5\\tECTOPIC PREGNANCY        190\\n6\\tCURRENT PREGNANCY        352\\n'"
      ]
     },
     "execution_count": 12,
     "metadata": {},
     "output_type": "execute_result"
    }
   ],
   "source": [
    "\"\"\"\n",
    "value\tlabel\t \t        Total\n",
    "1\tLIVE BIRTH              9148\n",
    "2\tINDUCED ABORTION        1862\n",
    "3\tSTILLBIRTH               120\n",
    "4\tMISCARRIAGE             1921\n",
    "5\tECTOPIC PREGNANCY        190\n",
    "6\tCURRENT PREGNANCY        352\n",
    "\"\"\""
   ]
  },
  {
   "cell_type": "code",
   "execution_count": 13,
   "metadata": {},
   "outputs": [
    {
     "data": {
      "text/plain": [
       "[11093, 11094, 11095, 11096, 11097, 11098, 11099]"
      ]
     },
     "execution_count": 13,
     "metadata": {},
     "output_type": "execute_result"
    }
   ],
   "source": [
    "preg_map = nsfg.MakePregMap(preg)\n",
    "preg_map[10229]"
   ]
  },
  {
   "cell_type": "code",
   "execution_count": 14,
   "metadata": {},
   "outputs": [
    {
     "data": {
      "text/plain": [
       "array([4, 4, 4, 4, 4, 4, 1], dtype=int64)"
      ]
     },
     "execution_count": 14,
     "metadata": {},
     "output_type": "execute_result"
    }
   ],
   "source": [
    "preg.outcome[preg_map[10229]].values"
   ]
  },
  {
   "cell_type": "code",
   "execution_count": 15,
   "metadata": {},
   "outputs": [
    {
     "data": {
      "text/plain": [
       "Hist({1: 1, 2: 3, 3: 1, 5: 1})"
      ]
     },
     "execution_count": 15,
     "metadata": {},
     "output_type": "execute_result"
    }
   ],
   "source": [
    "import thinkstats2\n",
    "hist = thinkstats2.Hist([1,2,2,2,3,5])\n",
    "hist"
   ]
  },
  {
   "cell_type": "code",
   "execution_count": 16,
   "metadata": {},
   "outputs": [
    {
     "data": {
      "text/plain": [
       "3"
      ]
     },
     "execution_count": 16,
     "metadata": {},
     "output_type": "execute_result"
    }
   ],
   "source": [
    "hist.Freq(2)"
   ]
  },
  {
   "cell_type": "code",
   "execution_count": 17,
   "metadata": {},
   "outputs": [
    {
     "data": {
      "text/plain": [
       "[1, 2, 3, 5]"
      ]
     },
     "execution_count": 17,
     "metadata": {},
     "output_type": "execute_result"
    }
   ],
   "source": [
    "list(hist.Values())"
   ]
  },
  {
   "cell_type": "code",
   "execution_count": 18,
   "metadata": {},
   "outputs": [
    {
     "data": {
      "text/plain": [
       "dict_items([(1, 1), (2, 3), (3, 1), (5, 1)])"
      ]
     },
     "execution_count": 18,
     "metadata": {},
     "output_type": "execute_result"
    }
   ],
   "source": [
    "hist.Items()"
   ]
  },
  {
   "cell_type": "code",
   "execution_count": 19,
   "metadata": {},
   "outputs": [
    {
     "data": {
      "text/plain": [
       "[(1, 1), (2, 3), (3, 1), (5, 1)]"
      ]
     },
     "execution_count": 19,
     "metadata": {},
     "output_type": "execute_result"
    }
   ],
   "source": [
    "list(hist.Items())"
   ]
  },
  {
   "cell_type": "code",
   "execution_count": 20,
   "metadata": {},
   "outputs": [],
   "source": [
    "# Live Births:\n",
    "live = preg[preg['outcome']==1]"
   ]
  },
  {
   "cell_type": "code",
   "execution_count": 21,
   "metadata": {},
   "outputs": [
    {
     "data": {
      "text/plain": [
       "15.4375"
      ]
     },
     "execution_count": 21,
     "metadata": {},
     "output_type": "execute_result"
    }
   ],
   "source": [
    "import numpy as np\n",
    "np.max(live.totalwgt_lb)"
   ]
  },
  {
   "cell_type": "code",
   "execution_count": 22,
   "metadata": {},
   "outputs": [
    {
     "data": {
      "text/plain": [
       "array([ 0.125     ,  1.82638889,  3.52777778,  5.22916667,  6.93055556,\n",
       "        8.63194444, 10.33333333, 12.03472222, 13.73611111, 15.4375    ])"
      ]
     },
     "execution_count": 22,
     "metadata": {},
     "output_type": "execute_result"
    }
   ],
   "source": [
    "bins = np.linspace(np.min(live.totalwgt_lb), np.max(live.totalwgt_lb),10)\n",
    "bins"
   ]
  },
  {
   "cell_type": "code",
   "execution_count": 23,
   "metadata": {},
   "outputs": [
    {
     "name": "stderr",
     "output_type": "stream",
     "text": [
      "C:\\Users\\ARINDAM\\AppData\\Local\\Programs\\Python\\Python37\\lib\\site-packages\\numpy\\lib\\histograms.py:839: RuntimeWarning: invalid value encountered in greater_equal\n",
      "  keep = (tmp_a >= first_edge)\n",
      "C:\\Users\\ARINDAM\\AppData\\Local\\Programs\\Python\\Python37\\lib\\site-packages\\numpy\\lib\\histograms.py:840: RuntimeWarning: invalid value encountered in less_equal\n",
      "  keep &= (tmp_a <= last_edge)\n"
     ]
    },
    {
     "data": {
      "image/png": "[encoded data removed]",
      "text/plain": [
       "<Figure size 432x288 with 1 Axes>"
      ]
     },
     "metadata": {
      "needs_background": "light"
     },
     "output_type": "display_data"
    }
   ],
   "source": [
    "import matplotlib.pyplot as plt\n",
    "\n",
    "#range = np.min(live.totalwgt_lb) - np.max(live.totalwgt_lb)\n",
    "plt.style.use('seaborn-deep')\n",
    "\n",
    "plt.hist(live.totalwgt_lb, bins=10, label='totalwgt_lb')\n",
    "plt.legend(loc='upper right')\n",
    "plt.show()"
   ]
  },
  {
   "cell_type": "code",
   "execution_count": 24,
   "metadata": {},
   "outputs": [
    {
     "data": {
      "image/png": "[encoded data removed]",
      "text/plain": [
       "<Figure size 432x288 with 1 Axes>"
      ]
     },
     "metadata": {
      "needs_background": "light"
     },
     "output_type": "display_data"
    }
   ],
   "source": [
    "plt.hist(live.birthwgt_oz)\n",
    "plt.show()"
   ]
  },
  {
   "cell_type": "code",
   "execution_count": 25,
   "metadata": {},
   "outputs": [
    {
     "data": {
      "image/png": "[encoded data removed]",
      "text/plain": [
       "<Figure size 432x288 with 1 Axes>"
      ]
     },
     "metadata": {
      "needs_background": "light"
     },
     "output_type": "display_data"
    }
   ],
   "source": [
    "plt.hist(live.agepreg) # Age of mothers at the end of pregnancy\n",
    "plt.show()"
   ]
  },
  {
   "cell_type": "code",
   "execution_count": 26,
   "metadata": {},
   "outputs": [
    {
     "data": {
      "image/png": "[encoded data removed]",
      "text/plain": [
       "<Figure size 432x288 with 1 Axes>"
      ]
     },
     "metadata": {
      "needs_background": "light"
     },
     "output_type": "display_data"
    }
   ],
   "source": [
    "plt.hist(live.prglngth) # Length of pregnancy in weeks\n",
    "plt.show()"
   ]
  },
  {
   "cell_type": "code",
   "execution_count": 27,
   "metadata": {},
   "outputs": [
    {
     "data": {
      "text/plain": [
       "0        1\n",
       "4        1\n",
       "9        1\n",
       "13       1\n",
       "17       2\n",
       "18       1\n",
       "19       1\n",
       "20       1\n",
       "21       2\n",
       "22       7\n",
       "23       1\n",
       "24      13\n",
       "25       3\n",
       "26      35\n",
       "27       3\n",
       "28      32\n",
       "29      21\n",
       "30     138\n",
       "31      27\n",
       "32     115\n",
       "33      49\n",
       "34      60\n",
       "35     311\n",
       "36     321\n",
       "37     455\n",
       "38     607\n",
       "39    4693\n",
       "40    1116\n",
       "41     587\n",
       "42     328\n",
       "43     148\n",
       "44      46\n",
       "45      10\n",
       "46       1\n",
       "47       1\n",
       "48       7\n",
       "50       2\n",
       "Name: prglngth, dtype: int64"
      ]
     },
     "execution_count": 27,
     "metadata": {},
     "output_type": "execute_result"
    }
   ],
   "source": [
    "live.prglngth.value_counts().sort_index()"
   ]
  },
  {
   "cell_type": "code",
   "execution_count": 28,
   "metadata": {},
   "outputs": [
    {
     "name": "stdout",
     "output_type": "stream",
     "text": [
      "0 1\n",
      "4 1\n",
      "9 1\n",
      "13 1\n",
      "17 2\n",
      "18 1\n",
      "19 1\n",
      "20 1\n",
      "21 2\n",
      "22 7\n"
     ]
    }
   ],
   "source": [
    "prglngth_hist = thinkstats2.Hist(live.prglngth)\n",
    "for w,i in prglngth_hist.Smallest(10):\n",
    "    print(w,i)"
   ]
  },
  {
   "cell_type": "code",
   "execution_count": 29,
   "metadata": {},
   "outputs": [
    {
     "name": "stdout",
     "output_type": "stream",
     "text": [
      "50 2\n",
      "48 7\n",
      "47 1\n",
      "46 1\n",
      "45 10\n",
      "44 46\n",
      "43 148\n",
      "42 328\n",
      "41 587\n",
      "40 1116\n"
     ]
    }
   ],
   "source": [
    "for w,i in prglngth_hist.Largest(10):\n",
    "    print(w,i)"
   ]
  },
  {
   "cell_type": "code",
   "execution_count": 30,
   "metadata": {},
   "outputs": [
    {
     "data": {
      "image/png": "[encoded data removed]",
      "text/plain": [
       "<Figure size 432x288 with 1 Axes>"
      ]
     },
     "metadata": {
      "needs_background": "light"
     },
     "output_type": "display_data"
    }
   ],
   "source": [
    "firsts = live[live.birthord==1]\n",
    "others = live[live.birthord!=1]\n",
    "\n",
    "plt.hist([firsts.prglngth, others.prglngth], bins=25, label=['firsts', 'others'])\n",
    "plt.legend(loc='upper right')\n",
    "plt.show()\n"
   ]
  },
  {
   "cell_type": "code",
   "execution_count": 31,
   "metadata": {},
   "outputs": [
    {
     "name": "stdout",
     "output_type": "stream",
     "text": [
      "38.56055968517709 2.702343810070587\n"
     ]
    }
   ],
   "source": [
    "mean = live.prglngth.mean()\n",
    "var = live.prglngth.var()\n",
    "std = live.prglngth.std()\n",
    "print(mean,std)"
   ]
  },
  {
   "cell_type": "code",
   "execution_count": 32,
   "metadata": {},
   "outputs": [
    {
     "data": {
      "text/plain": [
       "'\\nFor all live births, the mean pregnancy length is 38.6 weeks, the standard deviation is 2.7 weeks, \\nwhich means we should expect deviations of 2-3 weeks to be common.\\n'"
      ]
     },
     "execution_count": 32,
     "metadata": {},
     "output_type": "execute_result"
    }
   ],
   "source": [
    "\"\"\"\n",
    "For all live births, the mean pregnancy length is 38.6 weeks, the standard deviation is 2.7 weeks, \n",
    "which means we should expect deviations of 2-3 weeks to be common.\n",
    "\"\"\""
   ]
  },
  {
   "cell_type": "code",
   "execution_count": 33,
   "metadata": {},
   "outputs": [
    {
     "data": {
      "image/png": "[encoded data removed]",
      "text/plain": [
       "<Figure size 432x288 with 1 Axes>"
      ]
     },
     "metadata": {
      "needs_background": "light"
     },
     "output_type": "display_data"
    }
   ],
   "source": [
    "plt.hist([firsts.totalwgt_lb, others.totalwgt_lb], bins=25, label=['firsts totalwgt_lb', 'others totalwgt_lb'])\n",
    "plt.legend(loc='upper right')\n",
    "plt.show()"
   ]
  },
  {
   "cell_type": "code",
   "execution_count": 34,
   "metadata": {},
   "outputs": [],
   "source": [
    "import math\n",
    "def CohenEffectSize(group1, group2):\n",
    "    diff = group1.mean() - group2.mean()\n",
    "\n",
    "    var1 = group1.var()\n",
    "    var2 = group2.var()\n",
    "    n1, n2 = len(group1), len(group2)\n",
    "\n",
    "    pooled_var = (n1 * var1 + n2 * var2) / (n1 + n2)\n",
    "    d = diff / math.sqrt(pooled_var)\n",
    "    return d"
   ]
  },
  {
   "cell_type": "code",
   "execution_count": 35,
   "metadata": {},
   "outputs": [
    {
     "data": {
      "text/plain": [
       "0.028879044654449834"
      ]
     },
     "execution_count": 35,
     "metadata": {},
     "output_type": "execute_result"
    }
   ],
   "source": [
    "# First Baby prglngth\n",
    "CohenEffectSize(firsts.prglngth,others.prglngth)"
   ]
  },
  {
   "cell_type": "code",
   "execution_count": 36,
   "metadata": {},
   "outputs": [
    {
     "data": {
      "text/plain": [
       "-0.08867292707260174"
      ]
     },
     "execution_count": 36,
     "metadata": {},
     "output_type": "execute_result"
    }
   ],
   "source": [
    "# First Baby totalwgt_lb\n",
    "CohenEffectSize(firsts.totalwgt_lb,others.totalwgt_lb)"
   ]
  },
  {
   "cell_type": "code",
   "execution_count": 37,
   "metadata": {},
   "outputs": [
    {
     "data": {
      "text/plain": [
       "{1: 0.2, 2: 0.4, 3: 0.2, 5: 0.2}"
      ]
     },
     "execution_count": 37,
     "metadata": {},
     "output_type": "execute_result"
    }
   ],
   "source": [
    "def pmf(seq):\n",
    "    #unique_vals = set(seq)\n",
    "    freq_dict = {}\n",
    "    for i in seq:\n",
    "        if i in freq_dict:\n",
    "            freq_dict[i]+=1\n",
    "        else:\n",
    "            freq_dict[i] = 1\n",
    "    N = len(seq)\n",
    "    pmf_dict = {}\n",
    "    for k,v in freq_dict.items():\n",
    "        pmf_dict[k] = v/N\n",
    "    return pmf_dict\n",
    "\n",
    "pmf([1, 2, 2, 3, 5])"
   ]
  },
  {
   "cell_type": "code",
   "execution_count": 38,
   "metadata": {},
   "outputs": [
    {
     "data": {
      "text/plain": [
       "{39: 0.47903920235667347,\n",
       " 38: 0.0616360752322683,\n",
       " 33: 0.0063448900974393836,\n",
       " 41: 0.08157715839564922,\n",
       " 42: 0.04645365964196692,\n",
       " 36: 0.03897575345569907,\n",
       " 40: 0.12145932472241106,\n",
       " 37: 0.04713346929526399,\n",
       " 35: 0.03602991162474507,\n",
       " 43: 0.01971447994561523,\n",
       " 32: 0.012463176977113076,\n",
       " 24: 0.0015862225243598459,\n",
       " 44: 0.005211874008610922,\n",
       " 30: 0.016542034896895538,\n",
       " 28: 0.005438477226376614,\n",
       " 31: 0.003399048266485384,\n",
       " 34: 0.006571493315205076,\n",
       " 26: 0.0036256514842510764,\n",
       " 20: 0.00022660321776569228,\n",
       " 48: 0.0006798096532970768,\n",
       " 29: 0.0020394289598912306,\n",
       " 45: 0.0013596193065941536,\n",
       " 27: 0.00022660321776569228,\n",
       " 0: 0.00022660321776569228,\n",
       " 21: 0.00022660321776569228,\n",
       " 17: 0.00022660321776569228,\n",
       " 25: 0.00022660321776569228,\n",
       " 22: 0.0006798096532970768,\n",
       " 47: 0.00022660321776569228,\n",
       " 23: 0.00022660321776569228,\n",
       " 46: 0.00022660321776569228}"
      ]
     },
     "execution_count": 38,
     "metadata": {},
     "output_type": "execute_result"
    }
   ],
   "source": [
    "pmf_firsts_prglngth = pmf(firsts.prglngth)\n",
    "pmf_others_prglngth = pmf(others.prglngth)\n",
    "pmf_firsts_prglngth"
   ]
  },
  {
   "cell_type": "code",
   "execution_count": 39,
   "metadata": {},
   "outputs": [
    {
     "data": {
      "image/png": "[encoded data removed]",
      "text/plain": [
       "<Figure size 432x288 with 1 Axes>"
      ]
     },
     "metadata": {
      "needs_background": "light"
     },
     "output_type": "display_data"
    }
   ],
   "source": [
    "plt.step(list(pmf_firsts_prglngth.keys()),\n",
    "         list(pmf_firsts_prglngth.values()), \n",
    "         label='firsts prglngth')\n",
    "plt.legend(loc='upper right')\n",
    "plt.show()"
   ]
  },
  {
   "cell_type": "code",
   "execution_count": 40,
   "metadata": {},
   "outputs": [
    {
     "data": {
      "image/png": "[encoded data removed]",
      "text/plain": [
       "<Figure size 432x288 with 1 Axes>"
      ]
     },
     "metadata": {
      "needs_background": "light"
     },
     "output_type": "display_data"
    }
   ],
   "source": [
    "from collections import OrderedDict\n",
    "\n",
    "sorted_pmf_firsts_prglngth = OrderedDict(sorted(pmf_firsts_prglngth.items()))\n",
    "sorted_pmf_others_prglngth = OrderedDict(sorted(pmf_others_prglngth.items()))\n",
    "\n",
    "plt.step(list(sorted_pmf_firsts_prglngth.keys()),\n",
    "         list(sorted_pmf_firsts_prglngth.values()), \n",
    "         label='firsts prglngth')\n",
    "plt.step(list(sorted_pmf_others_prglngth.keys()),\n",
    "         list(sorted_pmf_others_prglngth.values()), \n",
    "         label='others prglngth')\n",
    "plt.legend(loc='upper left')\n",
    "plt.show()"
   ]
  },
  {
   "cell_type": "code",
   "execution_count": 41,
   "metadata": {},
   "outputs": [],
   "source": [
    "def EvalCdf(t, x):\n",
    "    count = 0.0\n",
    "    for value in t:\n",
    "        if value <= x:\n",
    "            count += 1\n",
    "\n",
    "    prob = count / len(t)\n",
    "    return prob"
   ]
  },
  {
   "cell_type": "code",
   "execution_count": 42,
   "metadata": {},
   "outputs": [
    {
     "data": {
      "text/plain": [
       "{0,\n",
       " 4,\n",
       " 9,\n",
       " 13,\n",
       " 17,\n",
       " 18,\n",
       " 19,\n",
       " 20,\n",
       " 21,\n",
       " 22,\n",
       " 23,\n",
       " 24,\n",
       " 25,\n",
       " 26,\n",
       " 27,\n",
       " 28,\n",
       " 29,\n",
       " 30,\n",
       " 31,\n",
       " 32,\n",
       " 33,\n",
       " 34,\n",
       " 35,\n",
       " 36,\n",
       " 37,\n",
       " 38,\n",
       " 39,\n",
       " 40,\n",
       " 41,\n",
       " 42,\n",
       " 43,\n",
       " 44,\n",
       " 45,\n",
       " 46,\n",
       " 47,\n",
       " 48,\n",
       " 50}"
      ]
     },
     "execution_count": 42,
     "metadata": {},
     "output_type": "execute_result"
    }
   ],
   "source": [
    "cdf = {}\n",
    "nums = set(live.prglngth)\n",
    "nums"
   ]
  },
  {
   "cell_type": "code",
   "execution_count": 43,
   "metadata": {},
   "outputs": [
    {
     "data": {
      "text/plain": [
       "{0: 0.00010931351114997814,\n",
       " 4: 0.00021862702229995628,\n",
       " 9: 0.00032794053344993443,\n",
       " 13: 0.00043725404459991256,\n",
       " 17: 0.0006558810668998689,\n",
       " 18: 0.000765194578049847,\n",
       " 19: 0.0008745080891998251,\n",
       " 20: 0.0009838216003498032,\n",
       " 21: 0.0012024486226497595,\n",
       " 22: 0.0019676432006996065,\n",
       " 23: 0.0020769567118495845,\n",
       " 24: 0.0034980323567993005,\n",
       " 25: 0.003825972890249235,\n",
       " 26: 0.00765194578049847,\n",
       " 27: 0.007979886313948404,\n",
       " 28: 0.011477918670747704,\n",
       " 29: 0.013773502404897246,\n",
       " 30: 0.028858766943594228,\n",
       " 31: 0.03181023174464364,\n",
       " 32: 0.04438128552689112,\n",
       " 33: 0.049737647573240056,\n",
       " 34: 0.056296458242238744,\n",
       " 35: 0.09029296020988194,\n",
       " 36: 0.12538259728902493,\n",
       " 37: 0.17512024486226496,\n",
       " 38: 0.2414735461303017,\n",
       " 39: 0.7544818539571491,\n",
       " 40: 0.8764757324005247,\n",
       " 41: 0.9406427634455619,\n",
       " 42: 0.9764975951027547,\n",
       " 43: 0.9926759947529514,\n",
       " 44: 0.9977044162658505,\n",
       " 45: 0.9987975513773503,\n",
       " 46: 0.9989068648885002,\n",
       " 47: 0.9990161783996502,\n",
       " 48: 0.9997813729777001,\n",
       " 50: 1.0}"
      ]
     },
     "execution_count": 43,
     "metadata": {},
     "output_type": "execute_result"
    }
   ],
   "source": [
    "for i in nums:\n",
    "    cdf[i] = EvalCdf(live.prglngth,i)\n",
    "cdf"
   ]
  },
  {
   "cell_type": "code",
   "execution_count": 44,
   "metadata": {},
   "outputs": [
    {
     "data": {
      "image/png": "[encoded data removed]",
      "text/plain": [
       "<Figure size 432x288 with 1 Axes>"
      ]
     },
     "metadata": {
      "needs_background": "light"
     },
     "output_type": "display_data"
    }
   ],
   "source": [
    "plt.step(list(cdf.keys()), list(cdf.values()))\n",
    "plt.show()"
   ]
  },
  {
   "cell_type": "code",
   "execution_count": 45,
   "metadata": {},
   "outputs": [
    {
     "data": {
      "text/html": [
       "<div>\n",
       "<style scoped>\n",
       "    .dataframe tbody tr th:only-of-type {\n",
       "        vertical-align: middle;\n",
       "    }\n",
       "\n",
       "    .dataframe tbody tr th {\n",
       "        vertical-align: top;\n",
       "    }\n",
       "\n",
       "    .dataframe thead th {\n",
       "        text-align: right;\n",
       "    }\n",
       "</style>\n",
       "<table border=\"1\" class=\"dataframe\">\n",
       "  <thead>\n",
       "    <tr style=\"text-align: right;\">\n",
       "      <th></th>\n",
       "      <th>name</th>\n",
       "      <th>start</th>\n",
       "      <th>end</th>\n",
       "      <th>type</th>\n",
       "    </tr>\n",
       "  </thead>\n",
       "  <tbody>\n",
       "    <tr>\n",
       "      <th>0</th>\n",
       "      <td>time</td>\n",
       "      <td>1</td>\n",
       "      <td>8</td>\n",
       "      <td>&lt;class 'int'&gt;</td>\n",
       "    </tr>\n",
       "    <tr>\n",
       "      <th>1</th>\n",
       "      <td>sex</td>\n",
       "      <td>9</td>\n",
       "      <td>16</td>\n",
       "      <td>&lt;class 'int'&gt;</td>\n",
       "    </tr>\n",
       "    <tr>\n",
       "      <th>2</th>\n",
       "      <td>weight_g</td>\n",
       "      <td>17</td>\n",
       "      <td>24</td>\n",
       "      <td>&lt;class 'int'&gt;</td>\n",
       "    </tr>\n",
       "    <tr>\n",
       "      <th>3</th>\n",
       "      <td>minutes</td>\n",
       "      <td>25</td>\n",
       "      <td>32</td>\n",
       "      <td>&lt;class 'int'&gt;</td>\n",
       "    </tr>\n",
       "  </tbody>\n",
       "</table>\n",
       "</div>"
      ],
      "text/plain": [
       "       name  start  end           type\n",
       "0      time      1    8  <class 'int'>\n",
       "1       sex      9   16  <class 'int'>\n",
       "2  weight_g     17   24  <class 'int'>\n",
       "3   minutes     25   32  <class 'int'>"
      ]
     },
     "execution_count": 45,
     "metadata": {},
     "output_type": "execute_result"
    }
   ],
   "source": [
    "import pandas as pd\n",
    "var_info = [\n",
    "    ('time', 1, 8, int),\n",
    "    ('sex', 9, 16, int),\n",
    "    ('weight_g', 17, 24, int),\n",
    "    ('minutes', 25, 32, int),\n",
    "    ]\n",
    "columns = ['name', 'start', 'end', 'type']\n",
    "variables = pd.DataFrame(var_info, columns=columns)\n",
    "variables"
   ]
  },
  {
   "cell_type": "code",
   "execution_count": 46,
   "metadata": {},
   "outputs": [
    {
     "data": {
      "text/html": [
       "<div>\n",
       "<style scoped>\n",
       "    .dataframe tbody tr th:only-of-type {\n",
       "        vertical-align: middle;\n",
       "    }\n",
       "\n",
       "    .dataframe tbody tr th {\n",
       "        vertical-align: top;\n",
       "    }\n",
       "\n",
       "    .dataframe thead th {\n",
       "        text-align: right;\n",
       "    }\n",
       "</style>\n",
       "<table border=\"1\" class=\"dataframe\">\n",
       "  <thead>\n",
       "    <tr style=\"text-align: right;\">\n",
       "      <th></th>\n",
       "      <th>name</th>\n",
       "      <th>start</th>\n",
       "      <th>end</th>\n",
       "      <th>type</th>\n",
       "    </tr>\n",
       "  </thead>\n",
       "  <tbody>\n",
       "    <tr>\n",
       "      <th>0</th>\n",
       "      <td>time</td>\n",
       "      <td>1</td>\n",
       "      <td>9</td>\n",
       "      <td>&lt;class 'int'&gt;</td>\n",
       "    </tr>\n",
       "    <tr>\n",
       "      <th>1</th>\n",
       "      <td>sex</td>\n",
       "      <td>9</td>\n",
       "      <td>17</td>\n",
       "      <td>&lt;class 'int'&gt;</td>\n",
       "    </tr>\n",
       "    <tr>\n",
       "      <th>2</th>\n",
       "      <td>weight_g</td>\n",
       "      <td>17</td>\n",
       "      <td>25</td>\n",
       "      <td>&lt;class 'int'&gt;</td>\n",
       "    </tr>\n",
       "    <tr>\n",
       "      <th>3</th>\n",
       "      <td>minutes</td>\n",
       "      <td>25</td>\n",
       "      <td>33</td>\n",
       "      <td>&lt;class 'int'&gt;</td>\n",
       "    </tr>\n",
       "  </tbody>\n",
       "</table>\n",
       "</div>"
      ],
      "text/plain": [
       "       name  start  end           type\n",
       "0      time      1    9  <class 'int'>\n",
       "1       sex      9   17  <class 'int'>\n",
       "2  weight_g     17   25  <class 'int'>\n",
       "3   minutes     25   33  <class 'int'>"
      ]
     },
     "execution_count": 46,
     "metadata": {},
     "output_type": "execute_result"
    }
   ],
   "source": [
    "variables.end += 1\n",
    "variables"
   ]
  },
  {
   "cell_type": "code",
   "execution_count": 47,
   "metadata": {},
   "outputs": [
    {
     "data": {
      "text/html": [
       "<div>\n",
       "<style scoped>\n",
       "    .dataframe tbody tr th:only-of-type {\n",
       "        vertical-align: middle;\n",
       "    }\n",
       "\n",
       "    .dataframe tbody tr th {\n",
       "        vertical-align: top;\n",
       "    }\n",
       "\n",
       "    .dataframe thead th {\n",
       "        text-align: right;\n",
       "    }\n",
       "</style>\n",
       "<table border=\"1\" class=\"dataframe\">\n",
       "  <thead>\n",
       "    <tr style=\"text-align: right;\">\n",
       "      <th></th>\n",
       "      <th>time</th>\n",
       "      <th>sex</th>\n",
       "      <th>weight_g</th>\n",
       "      <th>minutes</th>\n",
       "    </tr>\n",
       "  </thead>\n",
       "  <tbody>\n",
       "    <tr>\n",
       "      <th>0</th>\n",
       "      <td>5</td>\n",
       "      <td>1</td>\n",
       "      <td>3837</td>\n",
       "      <td>5</td>\n",
       "    </tr>\n",
       "    <tr>\n",
       "      <th>1</th>\n",
       "      <td>104</td>\n",
       "      <td>1</td>\n",
       "      <td>3334</td>\n",
       "      <td>64</td>\n",
       "    </tr>\n",
       "    <tr>\n",
       "      <th>2</th>\n",
       "      <td>118</td>\n",
       "      <td>2</td>\n",
       "      <td>3554</td>\n",
       "      <td>78</td>\n",
       "    </tr>\n",
       "    <tr>\n",
       "      <th>3</th>\n",
       "      <td>155</td>\n",
       "      <td>2</td>\n",
       "      <td>3838</td>\n",
       "      <td>115</td>\n",
       "    </tr>\n",
       "    <tr>\n",
       "      <th>4</th>\n",
       "      <td>257</td>\n",
       "      <td>2</td>\n",
       "      <td>3625</td>\n",
       "      <td>177</td>\n",
       "    </tr>\n",
       "  </tbody>\n",
       "</table>\n",
       "</div>"
      ],
      "text/plain": [
       "   time  sex  weight_g  minutes\n",
       "0     5    1      3837        5\n",
       "1   104    1      3334       64\n",
       "2   118    2      3554       78\n",
       "3   155    2      3838      115\n",
       "4   257    2      3625      177"
      ]
     },
     "execution_count": 47,
     "metadata": {},
     "output_type": "execute_result"
    }
   ],
   "source": [
    "dct = thinkstats2.FixedWidthVariables(variables, index_base=1)\n",
    "\n",
    "babyboom = dct.ReadFixedWidth('babyboom.dat', skiprows=59)\n",
    "\n",
    "babyboom.head()"
   ]
  },
  {
   "cell_type": "code",
   "execution_count": 48,
   "metadata": {},
   "outputs": [
    {
     "data": {
      "text/plain": [
       "0       NaN\n",
       "1      59.0\n",
       "2      14.0\n",
       "3      37.0\n",
       "4      62.0\n",
       "5      68.0\n",
       "6       2.0\n",
       "7      15.0\n",
       "8       9.0\n",
       "9     157.0\n",
       "10     27.0\n",
       "11     37.0\n",
       "12      2.0\n",
       "13     55.0\n",
       "14     86.0\n",
       "15     14.0\n",
       "16      4.0\n",
       "17     40.0\n",
       "18     36.0\n",
       "19     47.0\n",
       "20      9.0\n",
       "21     61.0\n",
       "22      1.0\n",
       "23     26.0\n",
       "24     13.0\n",
       "25     28.0\n",
       "26     77.0\n",
       "27     26.0\n",
       "28     45.0\n",
       "29     25.0\n",
       "30     18.0\n",
       "31     29.0\n",
       "32     15.0\n",
       "33     38.0\n",
       "34      2.0\n",
       "35      2.0\n",
       "36     19.0\n",
       "37     27.0\n",
       "38     14.0\n",
       "39     13.0\n",
       "40     19.0\n",
       "41     54.0\n",
       "42     70.0\n",
       "43     28.0\n",
       "Name: minutes, dtype: float64"
      ]
     },
     "execution_count": 48,
     "metadata": {},
     "output_type": "execute_result"
    }
   ],
   "source": [
    "diffs = babyboom.minutes.diff()\n",
    "diffs"
   ]
  },
  {
   "cell_type": "code",
   "execution_count": 49,
   "metadata": {},
   "outputs": [
    {
     "data": {
      "image/png": "[encoded data removed]",
      "text/plain": [
       "<Figure size 432x288 with 1 Axes>"
      ]
     },
     "metadata": {
      "needs_background": "light"
     },
     "output_type": "display_data"
    }
   ],
   "source": [
    "import math\n",
    "ccdf = {}\n",
    "nums = set(diffs)\n",
    "for i in nums:\n",
    "    ccdf[i] = 1 - EvalCdf(diffs,i)\n",
    "plt.step(list(ccdf.keys()), [math.log(x) for x in ccdf.values()])\n",
    "plt.show()"
   ]
  },
  {
   "cell_type": "code",
   "execution_count": 50,
   "metadata": {},
   "outputs": [],
   "source": [
    "import thinkplot\n",
    "\n",
    "def MakeNormalPlot(weights):\n",
    "    mean = weights.mean()\n",
    "    std = weights.std()\n",
    "\n",
    "    xs = [-4, 4]\n",
    "    fxs, fys = thinkstats2.FitLine(xs, inter=mean, slope=std)\n",
    "    thinkplot.Plot(fxs, fys, color='gray', label='model')\n",
    "\n",
    "    xs, ys = thinkstats2.NormalProbability(weights)\n",
    "    thinkplot.Plot(xs, ys, label='birth weights')"
   ]
  },
  {
   "cell_type": "code",
   "execution_count": 51,
   "metadata": {},
   "outputs": [
    {
     "data": {
      "image/png": "[encoded data removed]",
      "text/plain": [
       "<Figure size 432x288 with 1 Axes>"
      ]
     },
     "metadata": {
      "needs_background": "light"
     },
     "output_type": "display_data"
    }
   ],
   "source": [
    "MakeNormalPlot(live.birthwgt_lb)"
   ]
  },
  {
   "cell_type": "code",
   "execution_count": 52,
   "metadata": {},
   "outputs": [],
   "source": [
    "def CleanBrfssFrame(df):\n",
    "    \"\"\"Recodes BRFSS variables.\n",
    "    df: DataFrame\n",
    "    \"\"\"\n",
    "    # clean age\n",
    "    df.age.replace([7, 9], float('NaN'), inplace=True)\n",
    "\n",
    "    # clean height\n",
    "    df.htm3.replace([999], float('NaN'), inplace=True)\n",
    "\n",
    "    # clean weight\n",
    "    df.wtkg2.replace([99999], float('NaN'), inplace=True)\n",
    "    df.wtkg2 /= 100.0\n",
    "\n",
    "    # clean weight a year ago\n",
    "    df.wtyrago.replace([7777, 9999], float('NaN'), inplace=True)\n",
    "    df['wtyrago'] = df.wtyrago.apply(lambda x: x/2.2 if x < 9000 else x-9000)"
   ]
  },
  {
   "cell_type": "code",
   "execution_count": 53,
   "metadata": {},
   "outputs": [],
   "source": [
    "def ReadBrfss(filename='CDBRFS08.ASC.gz', compression='gzip', nrows=None):\n",
    "    \"\"\"Reads the BRFSS data.\n",
    "    filename: string\n",
    "    compression: string\n",
    "    nrows: int number of rows to read, or None for all\n",
    "    returns: DataFrame\n",
    "    \"\"\"\n",
    "    var_info = [\n",
    "        ('age', 101, 102, int),\n",
    "        ('sex', 143, 143, int),\n",
    "        ('wtyrago', 127, 130, int),\n",
    "        ('finalwt', 799, 808, int),\n",
    "        ('wtkg2', 1254, 1258, int),\n",
    "        ('htm3', 1251, 1253, int),\n",
    "        ]\n",
    "    columns = ['name', 'start', 'end', 'type']\n",
    "    variables = pd.DataFrame(var_info, columns=columns)\n",
    "    variables.end += 1\n",
    "    dct = thinkstats2.FixedWidthVariables(variables, index_base=1)\n",
    "\n",
    "    df = dct.ReadFixedWidth(filename, compression=compression, nrows=nrows)\n",
    "    CleanBrfssFrame(df)\n",
    "    return df"
   ]
  },
  {
   "cell_type": "code",
   "execution_count": 54,
   "metadata": {},
   "outputs": [
    {
     "data": {
      "text/html": [
       "<div>\n",
       "<style scoped>\n",
       "    .dataframe tbody tr th:only-of-type {\n",
       "        vertical-align: middle;\n",
       "    }\n",
       "\n",
       "    .dataframe tbody tr th {\n",
       "        vertical-align: top;\n",
       "    }\n",
       "\n",
       "    .dataframe thead th {\n",
       "        text-align: right;\n",
       "    }\n",
       "</style>\n",
       "<table border=\"1\" class=\"dataframe\">\n",
       "  <thead>\n",
       "    <tr style=\"text-align: right;\">\n",
       "      <th></th>\n",
       "      <th>age</th>\n",
       "      <th>sex</th>\n",
       "      <th>wtyrago</th>\n",
       "      <th>finalwt</th>\n",
       "      <th>wtkg2</th>\n",
       "      <th>htm3</th>\n",
       "    </tr>\n",
       "  </thead>\n",
       "  <tbody>\n",
       "    <tr>\n",
       "      <th>0</th>\n",
       "      <td>82.0</td>\n",
       "      <td>2</td>\n",
       "      <td>76.363636</td>\n",
       "      <td>185.870345</td>\n",
       "      <td>70.91</td>\n",
       "      <td>157.0</td>\n",
       "    </tr>\n",
       "    <tr>\n",
       "      <th>1</th>\n",
       "      <td>65.0</td>\n",
       "      <td>2</td>\n",
       "      <td>72.727273</td>\n",
       "      <td>126.603027</td>\n",
       "      <td>72.73</td>\n",
       "      <td>163.0</td>\n",
       "    </tr>\n",
       "    <tr>\n",
       "      <th>2</th>\n",
       "      <td>48.0</td>\n",
       "      <td>2</td>\n",
       "      <td>NaN</td>\n",
       "      <td>181.063210</td>\n",
       "      <td>NaN</td>\n",
       "      <td>165.0</td>\n",
       "    </tr>\n",
       "    <tr>\n",
       "      <th>3</th>\n",
       "      <td>61.0</td>\n",
       "      <td>1</td>\n",
       "      <td>73.636364</td>\n",
       "      <td>517.926275</td>\n",
       "      <td>73.64</td>\n",
       "      <td>170.0</td>\n",
       "    </tr>\n",
       "    <tr>\n",
       "      <th>4</th>\n",
       "      <td>26.0</td>\n",
       "      <td>1</td>\n",
       "      <td>88.636364</td>\n",
       "      <td>1252.624630</td>\n",
       "      <td>88.64</td>\n",
       "      <td>185.0</td>\n",
       "    </tr>\n",
       "  </tbody>\n",
       "</table>\n",
       "</div>"
      ],
      "text/plain": [
       "    age  sex    wtyrago      finalwt  wtkg2   htm3\n",
       "0  82.0    2  76.363636   185.870345  70.91  157.0\n",
       "1  65.0    2  72.727273   126.603027  72.73  163.0\n",
       "2  48.0    2        NaN   181.063210    NaN  165.0\n",
       "3  61.0    1  73.636364   517.926275  73.64  170.0\n",
       "4  26.0    1  88.636364  1252.624630  88.64  185.0"
      ]
     },
     "execution_count": 54,
     "metadata": {},
     "output_type": "execute_result"
    }
   ],
   "source": [
    "brfss = ReadBrfss()\n",
    "brfss.head()"
   ]
  },
  {
   "cell_type": "code",
   "execution_count": 55,
   "metadata": {},
   "outputs": [],
   "source": [
    "mean, var = 163, 52.8\n",
    "std = math.sqrt(var)"
   ]
  },
  {
   "cell_type": "code",
   "execution_count": 56,
   "metadata": {},
   "outputs": [
    {
     "data": {
      "text/plain": [
       "0.033300124989618714"
      ]
     },
     "execution_count": 56,
     "metadata": {},
     "output_type": "execute_result"
    }
   ],
   "source": [
    "import scipy\n",
    "\n",
    "scipy.stats.norm.pdf(mean+std, mean, std)"
   ]
  },
  {
   "cell_type": "code",
   "execution_count": 57,
   "metadata": {},
   "outputs": [
    {
     "data": {
      "text/plain": [
       "0          70.91\n",
       "1          72.73\n",
       "3          73.64\n",
       "4          88.64\n",
       "5         109.09\n",
       "           ...  \n",
       "414504     88.64\n",
       "414505     72.73\n",
       "414506     90.91\n",
       "414507     89.09\n",
       "414508     75.00\n",
       "Name: wtkg2, Length: 398484, dtype: float64"
      ]
     },
     "execution_count": 57,
     "metadata": {},
     "output_type": "execute_result"
    }
   ],
   "source": [
    "brfss.wtkg2.dropna()"
   ]
  },
  {
   "cell_type": "code",
   "execution_count": 58,
   "metadata": {},
   "outputs": [
    {
     "ename": "KeyboardInterrupt",
     "evalue": "",
     "output_type": "error",
     "traceback": [
      "\u001b[1;31m---------------------------------------------------------------------------\u001b[0m",
      "\u001b[1;31mKeyboardInterrupt\u001b[0m                         Traceback (most recent call last)",
      "\u001b[1;32m<ipython-input-58-4a7d8673b4a0>\u001b[0m in \u001b[0;36m<module>\u001b[1;34m\u001b[0m\n\u001b[0;32m      3\u001b[0m \u001b[0my\u001b[0m \u001b[1;33m=\u001b[0m \u001b[1;33m[\u001b[0m\u001b[1;33m]\u001b[0m\u001b[1;33m\u001b[0m\u001b[1;33m\u001b[0m\u001b[0m\n\u001b[0;32m      4\u001b[0m \u001b[1;32mfor\u001b[0m \u001b[0mi\u001b[0m \u001b[1;32min\u001b[0m \u001b[0mx\u001b[0m\u001b[1;33m:\u001b[0m\u001b[1;33m\u001b[0m\u001b[1;33m\u001b[0m\u001b[0m\n\u001b[1;32m----> 5\u001b[1;33m     \u001b[0my\u001b[0m\u001b[1;33m.\u001b[0m\u001b[0mappend\u001b[0m\u001b[1;33m(\u001b[0m\u001b[0mkde\u001b[0m\u001b[1;33m.\u001b[0m\u001b[0mevaluate\u001b[0m\u001b[1;33m(\u001b[0m\u001b[0mx\u001b[0m\u001b[1;33m)\u001b[0m\u001b[1;33m)\u001b[0m\u001b[1;33m\u001b[0m\u001b[1;33m\u001b[0m\u001b[0m\n\u001b[0m\u001b[0;32m      6\u001b[0m \u001b[0mplt\u001b[0m\u001b[1;33m.\u001b[0m\u001b[0mplot\u001b[0m\u001b[1;33m(\u001b[0m\u001b[0mx\u001b[0m\u001b[1;33m,\u001b[0m\u001b[0my\u001b[0m\u001b[1;33m)\u001b[0m\u001b[1;33m\u001b[0m\u001b[1;33m\u001b[0m\u001b[0m\n\u001b[0;32m      7\u001b[0m \u001b[0mplt\u001b[0m\u001b[1;33m.\u001b[0m\u001b[0mshow\u001b[0m\u001b[1;33m(\u001b[0m\u001b[1;33m)\u001b[0m\u001b[1;33m\u001b[0m\u001b[1;33m\u001b[0m\u001b[0m\n",
      "\u001b[1;32m~\\AppData\\Local\\Programs\\Python\\Python37\\lib\\site-packages\\scipy\\stats\\kde.py\u001b[0m in \u001b[0;36mevaluate\u001b[1;34m(self, points)\u001b[0m\n\u001b[0;32m    252\u001b[0m             \u001b[1;32mfor\u001b[0m \u001b[0mi\u001b[0m \u001b[1;32min\u001b[0m \u001b[0mrange\u001b[0m\u001b[1;33m(\u001b[0m\u001b[0mself\u001b[0m\u001b[1;33m.\u001b[0m\u001b[0mn\u001b[0m\u001b[1;33m)\u001b[0m\u001b[1;33m:\u001b[0m\u001b[1;33m\u001b[0m\u001b[1;33m\u001b[0m\u001b[0m\n\u001b[0;32m    253\u001b[0m                 \u001b[0mdiff\u001b[0m \u001b[1;33m=\u001b[0m \u001b[0mscaled_dataset\u001b[0m\u001b[1;33m[\u001b[0m\u001b[1;33m:\u001b[0m\u001b[1;33m,\u001b[0m \u001b[0mi\u001b[0m\u001b[1;33m,\u001b[0m \u001b[0mnewaxis\u001b[0m\u001b[1;33m]\u001b[0m \u001b[1;33m-\u001b[0m \u001b[0mscaled_points\u001b[0m\u001b[1;33m\u001b[0m\u001b[1;33m\u001b[0m\u001b[0m\n\u001b[1;32m--> 254\u001b[1;33m                 \u001b[0menergy\u001b[0m \u001b[1;33m=\u001b[0m \u001b[0msum\u001b[0m\u001b[1;33m(\u001b[0m\u001b[0mdiff\u001b[0m \u001b[1;33m*\u001b[0m \u001b[0mdiff\u001b[0m\u001b[1;33m,\u001b[0m \u001b[0maxis\u001b[0m\u001b[1;33m=\u001b[0m\u001b[1;36m0\u001b[0m\u001b[1;33m)\u001b[0m \u001b[1;33m/\u001b[0m \u001b[1;36m2.0\u001b[0m\u001b[1;33m\u001b[0m\u001b[1;33m\u001b[0m\u001b[0m\n\u001b[0m\u001b[0;32m    255\u001b[0m                 \u001b[0mresult\u001b[0m \u001b[1;33m+=\u001b[0m \u001b[0mself\u001b[0m\u001b[1;33m.\u001b[0m\u001b[0mweights\u001b[0m\u001b[1;33m[\u001b[0m\u001b[0mi\u001b[0m\u001b[1;33m]\u001b[0m\u001b[1;33m*\u001b[0m\u001b[0mexp\u001b[0m\u001b[1;33m(\u001b[0m\u001b[1;33m-\u001b[0m\u001b[0menergy\u001b[0m\u001b[1;33m)\u001b[0m\u001b[1;33m\u001b[0m\u001b[1;33m\u001b[0m\u001b[0m\n\u001b[0;32m    256\u001b[0m         \u001b[1;32melse\u001b[0m\u001b[1;33m:\u001b[0m\u001b[1;33m\u001b[0m\u001b[1;33m\u001b[0m\u001b[0m\n",
      "\u001b[1;32m<__array_function__ internals>\u001b[0m in \u001b[0;36msum\u001b[1;34m(*args, **kwargs)\u001b[0m\n",
      "\u001b[1;32m~\\AppData\\Local\\Programs\\Python\\Python37\\lib\\site-packages\\numpy\\core\\fromnumeric.py\u001b[0m in \u001b[0;36msum\u001b[1;34m(a, axis, dtype, out, keepdims, initial, where)\u001b[0m\n\u001b[0;32m   2227\u001b[0m \u001b[1;33m\u001b[0m\u001b[0m\n\u001b[0;32m   2228\u001b[0m     return _wrapreduction(a, np.add, 'sum', axis, dtype, out, keepdims=keepdims,\n\u001b[1;32m-> 2229\u001b[1;33m                           initial=initial, where=where)\n\u001b[0m\u001b[0;32m   2230\u001b[0m \u001b[1;33m\u001b[0m\u001b[0m\n\u001b[0;32m   2231\u001b[0m \u001b[1;33m\u001b[0m\u001b[0m\n",
      "\u001b[1;32m~\\AppData\\Local\\Programs\\Python\\Python37\\lib\\site-packages\\numpy\\core\\fromnumeric.py\u001b[0m in \u001b[0;36m_wrapreduction\u001b[1;34m(obj, ufunc, method, axis, dtype, out, **kwargs)\u001b[0m\n\u001b[0;32m     88\u001b[0m                 \u001b[1;32mreturn\u001b[0m \u001b[0mreduction\u001b[0m\u001b[1;33m(\u001b[0m\u001b[0maxis\u001b[0m\u001b[1;33m=\u001b[0m\u001b[0maxis\u001b[0m\u001b[1;33m,\u001b[0m \u001b[0mout\u001b[0m\u001b[1;33m=\u001b[0m\u001b[0mout\u001b[0m\u001b[1;33m,\u001b[0m \u001b[1;33m**\u001b[0m\u001b[0mpasskwargs\u001b[0m\u001b[1;33m)\u001b[0m\u001b[1;33m\u001b[0m\u001b[1;33m\u001b[0m\u001b[0m\n\u001b[0;32m     89\u001b[0m \u001b[1;33m\u001b[0m\u001b[0m\n\u001b[1;32m---> 90\u001b[1;33m     \u001b[1;32mreturn\u001b[0m \u001b[0mufunc\u001b[0m\u001b[1;33m.\u001b[0m\u001b[0mreduce\u001b[0m\u001b[1;33m(\u001b[0m\u001b[0mobj\u001b[0m\u001b[1;33m,\u001b[0m \u001b[0maxis\u001b[0m\u001b[1;33m,\u001b[0m \u001b[0mdtype\u001b[0m\u001b[1;33m,\u001b[0m \u001b[0mout\u001b[0m\u001b[1;33m,\u001b[0m \u001b[1;33m**\u001b[0m\u001b[0mpasskwargs\u001b[0m\u001b[1;33m)\u001b[0m\u001b[1;33m\u001b[0m\u001b[1;33m\u001b[0m\u001b[0m\n\u001b[0m\u001b[0;32m     91\u001b[0m \u001b[1;33m\u001b[0m\u001b[0m\n\u001b[0;32m     92\u001b[0m \u001b[1;33m\u001b[0m\u001b[0m\n",
      "\u001b[1;31mKeyboardInterrupt\u001b[0m: "
     ]
    }
   ],
   "source": [
    "\"\"\"kde = scipy.stats.gaussian_kde(brfss.wtkg2.dropna())\n",
    "x = brfss.wtkg2.dropna()\n",
    "y = []\n",
    "for i in x:\n",
    "    y.append(kde.evaluate(x))\n",
    "plt.plot(x,y)\n",
    "plt.show()\n",
    "\"\"\""
   ]
  },
  {
   "cell_type": "code",
   "execution_count": 59,
   "metadata": {},
   "outputs": [
    {
     "data": {
      "text/plain": [
       "30"
      ]
     },
     "execution_count": 59,
     "metadata": {},
     "output_type": "execute_result"
    }
   ],
   "source": [
    "# Hypothesis Testing\n",
    "\n",
    "heads, tails = (140,110) # total n = 25\n",
    "test_stat = abs(heads-tails)\n",
    "test_stat"
   ]
  },
  {
   "cell_type": "code",
   "execution_count": 60,
   "metadata": {},
   "outputs": [
    {
     "data": {
      "text/plain": [
       "30"
      ]
     },
     "execution_count": 60,
     "metadata": {},
     "output_type": "execute_result"
    }
   ],
   "source": [
    "actual = test_stat\n",
    "actual"
   ]
  },
  {
   "cell_type": "code",
   "execution_count": 62,
   "metadata": {},
   "outputs": [
    {
     "data": {
      "text/plain": [
       "['T',\n",
       " 'H',\n",
       " 'H',\n",
       " 'T',\n",
       " 'H',\n",
       " 'T',\n",
       " 'T',\n",
       " 'T',\n",
       " 'H',\n",
       " 'H',\n",
       " 'T',\n",
       " 'H',\n",
       " 'H',\n",
       " 'T',\n",
       " 'H',\n",
       " 'T',\n",
       " 'T',\n",
       " 'H',\n",
       " 'T',\n",
       " 'H',\n",
       " 'H',\n",
       " 'H',\n",
       " 'H',\n",
       " 'H',\n",
       " 'T',\n",
       " 'T',\n",
       " 'H',\n",
       " 'T',\n",
       " 'H',\n",
       " 'T',\n",
       " 'T',\n",
       " 'H',\n",
       " 'H',\n",
       " 'H',\n",
       " 'T',\n",
       " 'H',\n",
       " 'T',\n",
       " 'H',\n",
       " 'H',\n",
       " 'H',\n",
       " 'H',\n",
       " 'H',\n",
       " 'T',\n",
       " 'H',\n",
       " 'H',\n",
       " 'H',\n",
       " 'H',\n",
       " 'H',\n",
       " 'T',\n",
       " 'H',\n",
       " 'H',\n",
       " 'T',\n",
       " 'H',\n",
       " 'H',\n",
       " 'T',\n",
       " 'H',\n",
       " 'T',\n",
       " 'H',\n",
       " 'H',\n",
       " 'H',\n",
       " 'H',\n",
       " 'T',\n",
       " 'H',\n",
       " 'H',\n",
       " 'H',\n",
       " 'H',\n",
       " 'T',\n",
       " 'H',\n",
       " 'T',\n",
       " 'T',\n",
       " 'T',\n",
       " 'H',\n",
       " 'H',\n",
       " 'H',\n",
       " 'T',\n",
       " 'H',\n",
       " 'H',\n",
       " 'T',\n",
       " 'H',\n",
       " 'H',\n",
       " 'T',\n",
       " 'H',\n",
       " 'H',\n",
       " 'H',\n",
       " 'H',\n",
       " 'H',\n",
       " 'H',\n",
       " 'H',\n",
       " 'H',\n",
       " 'H',\n",
       " 'T',\n",
       " 'T',\n",
       " 'H',\n",
       " 'T',\n",
       " 'T',\n",
       " 'T',\n",
       " 'H',\n",
       " 'H',\n",
       " 'T',\n",
       " 'H',\n",
       " 'H',\n",
       " 'T',\n",
       " 'T',\n",
       " 'H',\n",
       " 'T',\n",
       " 'H',\n",
       " 'T',\n",
       " 'T',\n",
       " 'H',\n",
       " 'T',\n",
       " 'H',\n",
       " 'H',\n",
       " 'H',\n",
       " 'H',\n",
       " 'T',\n",
       " 'H',\n",
       " 'T',\n",
       " 'H',\n",
       " 'T',\n",
       " 'T',\n",
       " 'H',\n",
       " 'T',\n",
       " 'T',\n",
       " 'T',\n",
       " 'H',\n",
       " 'H',\n",
       " 'T',\n",
       " 'T',\n",
       " 'T',\n",
       " 'H',\n",
       " 'T',\n",
       " 'T',\n",
       " 'H',\n",
       " 'T',\n",
       " 'T',\n",
       " 'T',\n",
       " 'T',\n",
       " 'H',\n",
       " 'H',\n",
       " 'T',\n",
       " 'H',\n",
       " 'H',\n",
       " 'T',\n",
       " 'H',\n",
       " 'H',\n",
       " 'T',\n",
       " 'H',\n",
       " 'H',\n",
       " 'T',\n",
       " 'H',\n",
       " 'T',\n",
       " 'H',\n",
       " 'T',\n",
       " 'T',\n",
       " 'T',\n",
       " 'T',\n",
       " 'T',\n",
       " 'H',\n",
       " 'H',\n",
       " 'H',\n",
       " 'T',\n",
       " 'H',\n",
       " 'T',\n",
       " 'H',\n",
       " 'H',\n",
       " 'H',\n",
       " 'H',\n",
       " 'H',\n",
       " 'T',\n",
       " 'H',\n",
       " 'T',\n",
       " 'T',\n",
       " 'H',\n",
       " 'H',\n",
       " 'H',\n",
       " 'T',\n",
       " 'H',\n",
       " 'H',\n",
       " 'T',\n",
       " 'T',\n",
       " 'T',\n",
       " 'T',\n",
       " 'H',\n",
       " 'H',\n",
       " 'H',\n",
       " 'T',\n",
       " 'H',\n",
       " 'T',\n",
       " 'H',\n",
       " 'T',\n",
       " 'T',\n",
       " 'T',\n",
       " 'H',\n",
       " 'H',\n",
       " 'H',\n",
       " 'T',\n",
       " 'T',\n",
       " 'T',\n",
       " 'H',\n",
       " 'H',\n",
       " 'H',\n",
       " 'H',\n",
       " 'H',\n",
       " 'T',\n",
       " 'H',\n",
       " 'T',\n",
       " 'H',\n",
       " 'T',\n",
       " 'H',\n",
       " 'H',\n",
       " 'T',\n",
       " 'H',\n",
       " 'H',\n",
       " 'T',\n",
       " 'T',\n",
       " 'T',\n",
       " 'T',\n",
       " 'H',\n",
       " 'H',\n",
       " 'H',\n",
       " 'T',\n",
       " 'T',\n",
       " 'H',\n",
       " 'H',\n",
       " 'H',\n",
       " 'T',\n",
       " 'H',\n",
       " 'H',\n",
       " 'T',\n",
       " 'T',\n",
       " 'T',\n",
       " 'H',\n",
       " 'H',\n",
       " 'T',\n",
       " 'T',\n",
       " 'H',\n",
       " 'H',\n",
       " 'H',\n",
       " 'T',\n",
       " 'T',\n",
       " 'T',\n",
       " 'T',\n",
       " 'H',\n",
       " 'T',\n",
       " 'T',\n",
       " 'H',\n",
       " 'H',\n",
       " 'H',\n",
       " 'T',\n",
       " 'T']"
      ]
     },
     "execution_count": 62,
     "metadata": {},
     "output_type": "execute_result"
    }
   ],
   "source": [
    "import random\n",
    "\n",
    "iters = 1000\n",
    "\n",
    "sample = [random.choice('HT') for _ in range(heads+tails)]\n",
    "sample"
   ]
  },
  {
   "cell_type": "code",
   "execution_count": 63,
   "metadata": {},
   "outputs": [],
   "source": [
    "hist = thinkstats2.Hist(sample)"
   ]
  },
  {
   "cell_type": "code",
   "execution_count": 64,
   "metadata": {},
   "outputs": [
    {
     "data": {
      "text/plain": [
       "(140, 110)"
      ]
     },
     "execution_count": 64,
     "metadata": {},
     "output_type": "execute_result"
    }
   ],
   "source": [
    "hist['H'], hist['T']"
   ]
  },
  {
   "cell_type": "code",
   "execution_count": 66,
   "metadata": {},
   "outputs": [
    {
     "data": {
      "text/plain": [
       "[6,\n",
       " 10,\n",
       " 22,\n",
       " 18,\n",
       " 24,\n",
       " 8,\n",
       " 6,\n",
       " 34,\n",
       " 6,\n",
       " 10,\n",
       " 8,\n",
       " 8,\n",
       " 16,\n",
       " 4,\n",
       " 6,\n",
       " 10,\n",
       " 4,\n",
       " 26,\n",
       " 4,\n",
       " 24,\n",
       " 6,\n",
       " 0,\n",
       " 8,\n",
       " 10,\n",
       " 6,\n",
       " 2,\n",
       " 26,\n",
       " 8,\n",
       " 12,\n",
       " 14,\n",
       " 14,\n",
       " 6,\n",
       " 8,\n",
       " 26,\n",
       " 4,\n",
       " 2,\n",
       " 8,\n",
       " 14,\n",
       " 30,\n",
       " 16,\n",
       " 4,\n",
       " 0,\n",
       " 22,\n",
       " 26,\n",
       " 18,\n",
       " 12,\n",
       " 22,\n",
       " 12,\n",
       " 48,\n",
       " 0,\n",
       " 6,\n",
       " 10,\n",
       " 4,\n",
       " 10,\n",
       " 0,\n",
       " 20,\n",
       " 6,\n",
       " 6,\n",
       " 16,\n",
       " 14,\n",
       " 10,\n",
       " 32,\n",
       " 8,\n",
       " 16,\n",
       " 30,\n",
       " 30,\n",
       " 2,\n",
       " 10,\n",
       " 2,\n",
       " 26,\n",
       " 14,\n",
       " 6,\n",
       " 8,\n",
       " 6,\n",
       " 24,\n",
       " 4,\n",
       " 16,\n",
       " 16,\n",
       " 16,\n",
       " 4,\n",
       " 2,\n",
       " 0,\n",
       " 6,\n",
       " 2,\n",
       " 12,\n",
       " 4,\n",
       " 2,\n",
       " 10,\n",
       " 8,\n",
       " 6,\n",
       " 40,\n",
       " 16,\n",
       " 4,\n",
       " 8,\n",
       " 12,\n",
       " 4,\n",
       " 2,\n",
       " 4,\n",
       " 22,\n",
       " 8,\n",
       " 26,\n",
       " 14,\n",
       " 4,\n",
       " 38,\n",
       " 0,\n",
       " 12,\n",
       " 18,\n",
       " 4,\n",
       " 10,\n",
       " 20,\n",
       " 4,\n",
       " 14,\n",
       " 22,\n",
       " 4,\n",
       " 18,\n",
       " 32,\n",
       " 0,\n",
       " 16,\n",
       " 16,\n",
       " 22,\n",
       " 6,\n",
       " 20,\n",
       " 22,\n",
       " 24,\n",
       " 6,\n",
       " 26,\n",
       " 16,\n",
       " 8,\n",
       " 8,\n",
       " 4,\n",
       " 42,\n",
       " 12,\n",
       " 10,\n",
       " 8,\n",
       " 10,\n",
       " 10,\n",
       " 10,\n",
       " 10,\n",
       " 10,\n",
       " 34,\n",
       " 20,\n",
       " 2,\n",
       " 0,\n",
       " 8,\n",
       " 2,\n",
       " 34,\n",
       " 44,\n",
       " 2,\n",
       " 10,\n",
       " 10,\n",
       " 4,\n",
       " 6,\n",
       " 12,\n",
       " 22,\n",
       " 10,\n",
       " 10,\n",
       " 38,\n",
       " 2,\n",
       " 20,\n",
       " 2,\n",
       " 36,\n",
       " 14,\n",
       " 16,\n",
       " 26,\n",
       " 30,\n",
       " 24,\n",
       " 8,\n",
       " 4,\n",
       " 6,\n",
       " 20,\n",
       " 18,\n",
       " 16,\n",
       " 26,\n",
       " 10,\n",
       " 18,\n",
       " 12,\n",
       " 6,\n",
       " 4,\n",
       " 12,\n",
       " 26,\n",
       " 44,\n",
       " 30,\n",
       " 14,\n",
       " 32,\n",
       " 6,\n",
       " 16,\n",
       " 20,\n",
       " 16,\n",
       " 4,\n",
       " 8,\n",
       " 6,\n",
       " 16,\n",
       " 6,\n",
       " 26,\n",
       " 6,\n",
       " 26,\n",
       " 14,\n",
       " 6,\n",
       " 16,\n",
       " 10,\n",
       " 6,\n",
       " 6,\n",
       " 22,\n",
       " 6,\n",
       " 2,\n",
       " 26,\n",
       " 6,\n",
       " 8,\n",
       " 16,\n",
       " 16,\n",
       " 24,\n",
       " 10,\n",
       " 12,\n",
       " 4,\n",
       " 22,\n",
       " 14,\n",
       " 12,\n",
       " 16,\n",
       " 10,\n",
       " 10,\n",
       " 4,\n",
       " 22,\n",
       " 10,\n",
       " 8,\n",
       " 2,\n",
       " 16,\n",
       " 14,\n",
       " 12,\n",
       " 0,\n",
       " 10,\n",
       " 12,\n",
       " 4,\n",
       " 2,\n",
       " 14,\n",
       " 24,\n",
       " 4,\n",
       " 4,\n",
       " 22,\n",
       " 4,\n",
       " 10,\n",
       " 12,\n",
       " 18,\n",
       " 34,\n",
       " 2,\n",
       " 22,\n",
       " 12,\n",
       " 8,\n",
       " 28,\n",
       " 14,\n",
       " 0,\n",
       " 26,\n",
       " 32,\n",
       " 12,\n",
       " 20,\n",
       " 16,\n",
       " 26,\n",
       " 12,\n",
       " 14,\n",
       " 2,\n",
       " 24,\n",
       " 14,\n",
       " 10,\n",
       " 4,\n",
       " 44,\n",
       " 18,\n",
       " 46,\n",
       " 24,\n",
       " 4,\n",
       " 6,\n",
       " 18,\n",
       " 10,\n",
       " 32,\n",
       " 4,\n",
       " 8,\n",
       " 6,\n",
       " 6,\n",
       " 6,\n",
       " 6,\n",
       " 4,\n",
       " 6,\n",
       " 4,\n",
       " 12,\n",
       " 10,\n",
       " 12,\n",
       " 14,\n",
       " 18,\n",
       " 12,\n",
       " 4,\n",
       " 16,\n",
       " 8,\n",
       " 4,\n",
       " 4,\n",
       " 10,\n",
       " 8,\n",
       " 24,\n",
       " 32,\n",
       " 28,\n",
       " 12,\n",
       " 10,\n",
       " 8,\n",
       " 10,\n",
       " 10,\n",
       " 4,\n",
       " 14,\n",
       " 8,\n",
       " 14,\n",
       " 0,\n",
       " 6,\n",
       " 10,\n",
       " 0,\n",
       " 20,\n",
       " 20,\n",
       " 4,\n",
       " 2,\n",
       " 8,\n",
       " 4,\n",
       " 20,\n",
       " 6,\n",
       " 4,\n",
       " 8,\n",
       " 12,\n",
       " 18,\n",
       " 14,\n",
       " 16,\n",
       " 14,\n",
       " 2,\n",
       " 8,\n",
       " 12,\n",
       " 12,\n",
       " 12,\n",
       " 24,\n",
       " 16,\n",
       " 20,\n",
       " 20,\n",
       " 20,\n",
       " 2,\n",
       " 24,\n",
       " 8,\n",
       " 22,\n",
       " 20,\n",
       " 18,\n",
       " 24,\n",
       " 12,\n",
       " 2,\n",
       " 14,\n",
       " 8,\n",
       " 34,\n",
       " 10,\n",
       " 4,\n",
       " 2,\n",
       " 4,\n",
       " 20,\n",
       " 0,\n",
       " 24,\n",
       " 0,\n",
       " 2,\n",
       " 2,\n",
       " 24,\n",
       " 16,\n",
       " 16,\n",
       " 18,\n",
       " 10,\n",
       " 4,\n",
       " 22,\n",
       " 2,\n",
       " 14,\n",
       " 4,\n",
       " 14,\n",
       " 12,\n",
       " 2,\n",
       " 18,\n",
       " 6,\n",
       " 12,\n",
       " 4,\n",
       " 6,\n",
       " 22,\n",
       " 2,\n",
       " 28,\n",
       " 10,\n",
       " 28,\n",
       " 6,\n",
       " 6,\n",
       " 32,\n",
       " 24,\n",
       " 34,\n",
       " 8,\n",
       " 10,\n",
       " 10,\n",
       " 16,\n",
       " 22,\n",
       " 4,\n",
       " 16,\n",
       " 26,\n",
       " 6,\n",
       " 10,\n",
       " 6,\n",
       " 12,\n",
       " 2,\n",
       " 0,\n",
       " 46,\n",
       " 24,\n",
       " 0,\n",
       " 16,\n",
       " 2,\n",
       " 4,\n",
       " 2,\n",
       " 24,\n",
       " 10,\n",
       " 20,\n",
       " 12,\n",
       " 10,\n",
       " 10,\n",
       " 4,\n",
       " 18,\n",
       " 6,\n",
       " 6,\n",
       " 12,\n",
       " 6,\n",
       " 16,\n",
       " 28,\n",
       " 6,\n",
       " 10,\n",
       " 30,\n",
       " 26,\n",
       " 30,\n",
       " 18,\n",
       " 6,\n",
       " 0,\n",
       " 2,\n",
       " 2,\n",
       " 28,\n",
       " 20,\n",
       " 22,\n",
       " 14,\n",
       " 10,\n",
       " 12,\n",
       " 6,\n",
       " 6,\n",
       " 2,\n",
       " 10,\n",
       " 8,\n",
       " 24,\n",
       " 4,\n",
       " 4,\n",
       " 18,\n",
       " 12,\n",
       " 24,\n",
       " 14,\n",
       " 4,\n",
       " 26,\n",
       " 36,\n",
       " 30,\n",
       " 14,\n",
       " 0,\n",
       " 4,\n",
       " 10,\n",
       " 0,\n",
       " 2,\n",
       " 0,\n",
       " 20,\n",
       " 8,\n",
       " 22,\n",
       " 6,\n",
       " 14,\n",
       " 6,\n",
       " 16,\n",
       " 8,\n",
       " 16,\n",
       " 18,\n",
       " 0,\n",
       " 12,\n",
       " 6,\n",
       " 20,\n",
       " 30,\n",
       " 20,\n",
       " 22,\n",
       " 2,\n",
       " 20,\n",
       " 16,\n",
       " 10,\n",
       " 16,\n",
       " 2,\n",
       " 16,\n",
       " 8,\n",
       " 2,\n",
       " 6,\n",
       " 18,\n",
       " 14,\n",
       " 18,\n",
       " 0,\n",
       " 4,\n",
       " 2,\n",
       " 12,\n",
       " 12,\n",
       " 40,\n",
       " 36,\n",
       " 2,\n",
       " 8,\n",
       " 6,\n",
       " 6,\n",
       " 8,\n",
       " 14,\n",
       " 28,\n",
       " 26,\n",
       " 14,\n",
       " 8,\n",
       " 10,\n",
       " 0,\n",
       " 8,\n",
       " 8,\n",
       " 26,\n",
       " 38,\n",
       " 6,\n",
       " 2,\n",
       " 28,\n",
       " 8,\n",
       " 12,\n",
       " 28,\n",
       " 16,\n",
       " 10,\n",
       " 14,\n",
       " 30,\n",
       " 12,\n",
       " 6,\n",
       " 14,\n",
       " 24,\n",
       " 12,\n",
       " 8,\n",
       " 20,\n",
       " 10,\n",
       " 14,\n",
       " 2,\n",
       " 8,\n",
       " 18,\n",
       " 4,\n",
       " 2,\n",
       " 4,\n",
       " 18,\n",
       " 2,\n",
       " 6,\n",
       " 12,\n",
       " 22,\n",
       " 12,\n",
       " 30,\n",
       " 4,\n",
       " 6,\n",
       " 6,\n",
       " 12,\n",
       " 18,\n",
       " 20,\n",
       " 12,\n",
       " 8,\n",
       " 4,\n",
       " 50,\n",
       " 26,\n",
       " 24,\n",
       " 20,\n",
       " 12,\n",
       " 28,\n",
       " 4,\n",
       " 30,\n",
       " 0,\n",
       " 20,\n",
       " 10,\n",
       " 8,\n",
       " 16,\n",
       " 10,\n",
       " 4,\n",
       " 4,\n",
       " 6,\n",
       " 0,\n",
       " 10,\n",
       " 12,\n",
       " 4,\n",
       " 0,\n",
       " 10,\n",
       " 32,\n",
       " 20,\n",
       " 6,\n",
       " 6,\n",
       " 10,\n",
       " 0,\n",
       " 10,\n",
       " 0,\n",
       " 34,\n",
       " 12,\n",
       " 28,\n",
       " 16,\n",
       " 34,\n",
       " 10,\n",
       " 2,\n",
       " 6,\n",
       " 16,\n",
       " 6,\n",
       " 8,\n",
       " 24,\n",
       " 10,\n",
       " 0,\n",
       " 8,\n",
       " 36,\n",
       " 10,\n",
       " 6,\n",
       " 8,\n",
       " 12,\n",
       " 16,\n",
       " 8,\n",
       " 22,\n",
       " 6,\n",
       " 4,\n",
       " 10,\n",
       " 14,\n",
       " 4,\n",
       " 6,\n",
       " 8,\n",
       " 10,\n",
       " 10,\n",
       " 32,\n",
       " 4,\n",
       " 6,\n",
       " 18,\n",
       " 30,\n",
       " 8,\n",
       " 28,\n",
       " 18,\n",
       " 16,\n",
       " 32,\n",
       " 0,\n",
       " 2,\n",
       " 10,\n",
       " 16,\n",
       " 32,\n",
       " 6,\n",
       " 26,\n",
       " 2,\n",
       " 64,\n",
       " 28,\n",
       " 0,\n",
       " 22,\n",
       " 18,\n",
       " 4,\n",
       " 26,\n",
       " 10,\n",
       " 6,\n",
       " 26,\n",
       " 6,\n",
       " 18,\n",
       " 8,\n",
       " 26,\n",
       " 2,\n",
       " 26,\n",
       " 24,\n",
       " 36,\n",
       " 36,\n",
       " 8,\n",
       " 4,\n",
       " 16,\n",
       " 10,\n",
       " 14,\n",
       " 22,\n",
       " 6,\n",
       " 8,\n",
       " 10,\n",
       " 32,\n",
       " 16,\n",
       " 16,\n",
       " 16,\n",
       " 2,\n",
       " 0,\n",
       " 12,\n",
       " 30,\n",
       " 6,\n",
       " 6,\n",
       " 20,\n",
       " 14,\n",
       " 6,\n",
       " 2,\n",
       " 0,\n",
       " 8,\n",
       " 2,\n",
       " 22,\n",
       " 4,\n",
       " 20,\n",
       " 14,\n",
       " 10,\n",
       " 10,\n",
       " 10,\n",
       " 18,\n",
       " 10,\n",
       " 6,\n",
       " 0,\n",
       " 4,\n",
       " 16,\n",
       " 16,\n",
       " 12,\n",
       " 24,\n",
       " 4,\n",
       " 2,\n",
       " 4,\n",
       " 12,\n",
       " 24,\n",
       " 4,\n",
       " 20,\n",
       " 4,\n",
       " 30,\n",
       " 12,\n",
       " 18,\n",
       " 10,\n",
       " 2,\n",
       " 4,\n",
       " 8,\n",
       " 14,\n",
       " 6,\n",
       " 6,\n",
       " 16,\n",
       " 4,\n",
       " 44,\n",
       " 6,\n",
       " 14,\n",
       " 2,\n",
       " 36,\n",
       " 22,\n",
       " 6,\n",
       " 2,\n",
       " 14,\n",
       " 26,\n",
       " 8,\n",
       " 28,\n",
       " 12,\n",
       " 38,\n",
       " 18,\n",
       " 14,\n",
       " 6,\n",
       " 44,\n",
       " 4,\n",
       " 12,\n",
       " 8,\n",
       " 4,\n",
       " 12,\n",
       " 24,\n",
       " 2,\n",
       " 2,\n",
       " 14,\n",
       " 16,\n",
       " 14,\n",
       " 8,\n",
       " 8,\n",
       " 38,\n",
       " 10,\n",
       " 10,\n",
       " 22,\n",
       " 2,\n",
       " 24,\n",
       " 16,\n",
       " 12,\n",
       " 0,\n",
       " 28,\n",
       " 30,\n",
       " 16,\n",
       " 4,\n",
       " 10,\n",
       " 16,\n",
       " 16,\n",
       " 2,\n",
       " 8,\n",
       " 20,\n",
       " 2,\n",
       " 8,\n",
       " 12,\n",
       " 26,\n",
       " 4,\n",
       " 2,\n",
       " 30,\n",
       " 10,\n",
       " 22,\n",
       " 8,\n",
       " 18,\n",
       " 4,\n",
       " 28,\n",
       " 14,\n",
       " 10,\n",
       " 4,\n",
       " 12,\n",
       " 2,\n",
       " 30,\n",
       " 14,\n",
       " 4,\n",
       " 22,\n",
       " 6,\n",
       " 22,\n",
       " 12,\n",
       " 12,\n",
       " 6,\n",
       " 10,\n",
       " 12,\n",
       " 10,\n",
       " 8,\n",
       " 8,\n",
       " 34,\n",
       " 36,\n",
       " 2,\n",
       " 28,\n",
       " 14,\n",
       " 18,\n",
       " 28,\n",
       " 14,\n",
       " 8,\n",
       " 6,\n",
       " 0,\n",
       " 16,\n",
       " 12,\n",
       " 14,\n",
       " 4,\n",
       " 30,\n",
       " 18,\n",
       " 2,\n",
       " 10,\n",
       " 10,\n",
       " 4,\n",
       " 12,\n",
       " 4,\n",
       " 12,\n",
       " 2,\n",
       " 4,\n",
       " 8,\n",
       " 8,\n",
       " 28,\n",
       " 6,\n",
       " 34,\n",
       " 14,\n",
       " 10,\n",
       " 10,\n",
       " 12,\n",
       " 8,\n",
       " 4,\n",
       " 0,\n",
       " 10,\n",
       " 2,\n",
       " 4,\n",
       " 20,\n",
       " 18,\n",
       " 12,\n",
       " 24,\n",
       " 4,\n",
       " 8,\n",
       " 8,\n",
       " 6,\n",
       " 0,\n",
       " 2,\n",
       " 22,\n",
       " 2,\n",
       " 12,\n",
       " 20,\n",
       " 16,\n",
       " 26,\n",
       " 16,\n",
       " 0,\n",
       " 14,\n",
       " 10,\n",
       " 34,\n",
       " 20,\n",
       " 16,\n",
       " 24,\n",
       " 0,\n",
       " 14,\n",
       " 22,\n",
       " 20,\n",
       " 22,\n",
       " 8,\n",
       " 12,\n",
       " 2,\n",
       " 10,\n",
       " 4,\n",
       " 26,\n",
       " 20,\n",
       " 10,\n",
       " 14,\n",
       " 2,\n",
       " 8,\n",
       " 24,\n",
       " 6,\n",
       " 4,\n",
       " 20,\n",
       " 2,\n",
       " 2,\n",
       " 22,\n",
       " 28,\n",
       " 2,\n",
       " 10,\n",
       " 14,\n",
       " 26,\n",
       " 12,\n",
       " 28,\n",
       " 0,\n",
       " 10,\n",
       " 14,\n",
       " 2,\n",
       " 32,\n",
       " 12,\n",
       " 10,\n",
       " 22,\n",
       " 6,\n",
       " 18,\n",
       " 14,\n",
       " 10,\n",
       " 24,\n",
       " 8,\n",
       " 0,\n",
       " 6,\n",
       " 8,\n",
       " 14,\n",
       " 12,\n",
       " 4,\n",
       " 18,\n",
       " 20,\n",
       " 12,\n",
       " 4,\n",
       " 2,\n",
       " 6,\n",
       " 2,\n",
       " 8,\n",
       " 14,\n",
       " 32,\n",
       " 12,\n",
       " 4,\n",
       " 10,\n",
       " 8,\n",
       " 2,\n",
       " 10,\n",
       " 2,\n",
       " 8,\n",
       " 2,\n",
       " 14,\n",
       " 18,\n",
       " 6,\n",
       " 22,\n",
       " 4,\n",
       " 10,\n",
       " 4,\n",
       " 6,\n",
       " 16,\n",
       " 10,\n",
       " 0,\n",
       " 14,\n",
       " 6,\n",
       " 2,\n",
       " 10,\n",
       " 40,\n",
       " 8,\n",
       " 10,\n",
       " 4,\n",
       " 2,\n",
       " 12,\n",
       " 30,\n",
       " 12,\n",
       " 22,\n",
       " 28,\n",
       " 12,\n",
       " 6,\n",
       " 10,\n",
       " 4,\n",
       " 28,\n",
       " 24,\n",
       " 6,\n",
       " 6,\n",
       " 6,\n",
       " 4,\n",
       " 14,\n",
       " 8,\n",
       " 2,\n",
       " 12,\n",
       " 10,\n",
       " 6,\n",
       " 2,\n",
       " 30,\n",
       " 6,\n",
       " 4,\n",
       " 6,\n",
       " 22,\n",
       " 2,\n",
       " 4,\n",
       " 14,\n",
       " 14,\n",
       " 40,\n",
       " 20,\n",
       " 20,\n",
       " 14,\n",
       " 32,\n",
       " 8,\n",
       " 4,\n",
       " 32,\n",
       " 2,\n",
       " 6,\n",
       " 2,\n",
       " 4,\n",
       " 12,\n",
       " 22,\n",
       " 4,\n",
       " 6,\n",
       " 14,\n",
       " 4]"
      ]
     },
     "execution_count": 66,
     "metadata": {},
     "output_type": "execute_result"
    }
   ],
   "source": [
    "test_stats = []\n",
    "for i in range(iters):\n",
    "    sample = [random.choice('HT') for _ in range(heads+tails)]\n",
    "    hist = thinkstats2.Hist(sample)\n",
    "    test_stats.append(abs(hist['H']-hist['T']))\n",
    "\n",
    "test_stats"
   ]
  },
  {
   "cell_type": "code",
   "execution_count": 67,
   "metadata": {},
   "outputs": [
    {
     "data": {
      "text/plain": [
       "76"
      ]
     },
     "execution_count": 67,
     "metadata": {},
     "output_type": "execute_result"
    }
   ],
   "source": [
    "count = sum(1 for x in test_stats if x>=actual)\n",
    "count"
   ]
  },
  {
   "cell_type": "code",
   "execution_count": 68,
   "metadata": {},
   "outputs": [
    {
     "data": {
      "text/plain": [
       "0.076"
      ]
     },
     "execution_count": 68,
     "metadata": {},
     "output_type": "execute_result"
    }
   ],
   "source": [
    "count/iters"
   ]
  },
  {
   "cell_type": "code",
   "execution_count": 69,
   "metadata": {},
   "outputs": [
    {
     "data": {
      "text/plain": [
       "(4413, 4735)"
      ]
     },
     "execution_count": 69,
     "metadata": {},
     "output_type": "execute_result"
    }
   ],
   "source": [
    "len(firsts.prglngth),len(others.prglngth)"
   ]
  },
  {
   "cell_type": "code",
   "execution_count": 70,
   "metadata": {},
   "outputs": [
    {
     "data": {
      "text/plain": [
       "0.07803726677754952"
      ]
     },
     "execution_count": 70,
     "metadata": {},
     "output_type": "execute_result"
    }
   ],
   "source": [
    "data = firsts.prglngth,others.prglngth\n",
    "test_stat = abs(firsts.prglngth.mean()-others.prglngth.mean())\n",
    "test_stat"
   ]
  },
  {
   "cell_type": "code",
   "execution_count": 71,
   "metadata": {},
   "outputs": [],
   "source": [
    "actual = test_stat"
   ]
  },
  {
   "cell_type": "code",
   "execution_count": 72,
   "metadata": {},
   "outputs": [
    {
     "data": {
      "text/plain": [
       "0        39\n",
       "2        39\n",
       "5        38\n",
       "8        39\n",
       "10       39\n",
       "         ..\n",
       "13576    39\n",
       "13578    39\n",
       "13581    39\n",
       "13584    34\n",
       "13588    39\n",
       "Name: prglngth, Length: 4413, dtype: int64"
      ]
     },
     "execution_count": 72,
     "metadata": {},
     "output_type": "execute_result"
    }
   ],
   "source": [
    "firsts.prglngth"
   ]
  },
  {
   "cell_type": "code",
   "execution_count": 94,
   "metadata": {},
   "outputs": [
    {
     "data": {
      "text/plain": [
       "array([39, 39, 38, ..., 39, 39, 39], dtype=int64)"
      ]
     },
     "execution_count": 94,
     "metadata": {},
     "output_type": "execute_result"
    }
   ],
   "source": [
    "pool = np.hstack((firsts.prglngth,others.prglngth))\n",
    "pool"
   ]
  },
  {
   "cell_type": "code",
   "execution_count": 95,
   "metadata": {},
   "outputs": [
    {
     "data": {
      "text/plain": [
       "9148"
      ]
     },
     "execution_count": 95,
     "metadata": {},
     "output_type": "execute_result"
    }
   ],
   "source": [
    "len(pool)"
   ]
  },
  {
   "cell_type": "code",
   "execution_count": 96,
   "metadata": {},
   "outputs": [
    {
     "data": {
      "text/plain": [
       "array([39, 39, 38, ..., 39, 39, 39], dtype=int64)"
      ]
     },
     "execution_count": 96,
     "metadata": {},
     "output_type": "execute_result"
    }
   ],
   "source": [
    "iters = 1000\n",
    "\n",
    "n = len(firsts.prglngth)\n",
    "\n",
    "np.random.shuffle(np.array(pool))\n",
    "pool"
   ]
  },
  {
   "cell_type": "code",
   "execution_count": 98,
   "metadata": {},
   "outputs": [
    {
     "data": {
      "text/plain": [
       "(4413, 4735)"
      ]
     },
     "execution_count": 98,
     "metadata": {},
     "output_type": "execute_result"
    }
   ],
   "source": [
    "sample = (pool[:n],pool[n:])\n",
    "len(sample[0]),len(sample[1])"
   ]
  },
  {
   "cell_type": "code",
   "execution_count": 111,
   "metadata": {},
   "outputs": [
    {
     "data": {
      "text/plain": [
       "1    9148\n",
       "4    1921\n",
       "3     120\n",
       "Name: outcome, dtype: int64"
      ]
     },
     "execution_count": 111,
     "metadata": {},
     "output_type": "execute_result"
    }
   ],
   "source": [
    "complete = preg[(preg['outcome']==1) | (preg['outcome']==3) | (preg['outcome']==4)]\n",
    "complete.outcome.value_counts()"
   ]
  },
  {
   "cell_type": "code",
   "execution_count": 112,
   "metadata": {},
   "outputs": [
    {
     "data": {
      "text/plain": [
       "Cdf(['adj_mod_basewgt' 'ageatend' 'agecon' 'agecon_i' 'agepreg' 'agepreg_i'\n",
       " 'ageqtnur' 'ageqtnur2' 'ageqtnur3' 'ageqtnur_n' 'ageqtnur_n2'\n",
       " 'ageqtnur_n3' 'ageqtnur_p' 'ageqtnur_p2' 'ageqtnur_p3' 'ager' 'ager_i'\n",
       " 'agescrn' 'alivenow' 'alivenow2' 'alivenow3' 'anynurse' 'anynurse2'\n",
       " 'anynurse3' 'anyusint' 'babysex' 'babysex2' 'babysex3' 'basewgt'\n",
       " 'bfeedwks' 'bfeedwks_i' 'bgnprena' 'birthord' 'birthord_i' 'birthplc'\n",
       " 'birthwgt_lb' 'birthwgt_lb2' 'birthwgt_lb3' 'birthwgt_oz' 'birthwgt_oz2'\n",
       " 'birthwgt_oz3' 'bpa_bdscheck1' 'bpa_bdscheck2' 'bpa_bdscheck3' 'brnout'\n",
       " 'caseid' 'cmbabdob' 'cmbirth' 'cmfstprg' 'cmintfin' 'cmintfincr'\n",
       " 'cmintfinop' 'cmintstr' 'cmintstrcr' 'cmintstrop' 'cmintvw' 'cmkidied'\n",
       " 'cmkidied2' 'cmkidied3' 'cmkidlft' 'cmkidlft2' 'cmkidlft3' 'cmlastlb'\n",
       " 'cmlstprg' 'cmotpreg' 'cmprgbeg' 'cmprgend' 'cnfrmno' 'cohpbeg' 'cohpend'\n",
       " 'datecon' 'datecon_i' 'datend' 'datend_i' 'didwork' 'dk1gest' 'dk2gest'\n",
       " 'dk3gest' 'educat' 'educat_i' 'evuseint' 'fedsolid' 'fedsolid2'\n",
       " 'fedsolid3' 'feelinpg' 'finalwgt' 'flgdkmo1' 'fmarcon5' 'fmarcon5_i'\n",
       " 'fmarital' 'fmarital_i' 'fmarout5' 'fmarout5_i' 'frsteatd' 'frsteatd2'\n",
       " 'frsteatd3' 'frsteatd_n' 'frsteatd_n2' 'frsteatd_n3' 'frsteatd_p'\n",
       " 'frsteatd_p2' 'frsteatd_p3' 'gestasun_m' 'gestasun_w' 'getprena' 'hieduc'\n",
       " 'hieduc_i' 'hispanic' 'hispanic_i' 'hisprace' 'hisprace_i' 'howpreg_n'\n",
       " 'howpreg_p' 'hpageend' 'hpagelb' 'hpwnold' 'insuranc' 'insuranc_i'\n",
       " 'kidage' 'knewpreg' 'laborfor' 'laborfor_i' 'lastage' 'lastage2'\n",
       " 'lastage3' 'lbw1' 'lbw1_i' 'learnprg' 'learnprg_i' 'legagree' 'legagree2'\n",
       " 'legagree3' 'livehere' 'livehere2' 'livehere3' 'lobthwgt' 'lobthwgt2'\n",
       " 'lobthwgt3' 'lpnctri' 'ltrimest' 'matchfound' 'matchfound2' 'matchfound3'\n",
       " 'maternlv' 'maternlv_i' 'matleave' 'matweeks' 'metro' 'metro_i'\n",
       " 'moscurrp' 'mosgest' 'multbrth' 'nbrnaliv' 'nowprgdk' 'npostsmk'\n",
       " 'oldwantp' 'oldwantp_i' 'oldwantr' 'oldwantr_i' 'outcome' 'outcome_i'\n",
       " 'parenend' 'parenend2' 'parenend3' 'parity' 'parity_i' 'paybirth1'\n",
       " 'paybirth2' 'paybirth3' 'paydeliv' 'paydeliv_i' 'pmarpreg' 'pmarpreg_i'\n",
       " 'pncarewk' 'pncarewk_i' 'pnctrim' 'postsmks' 'poverty' 'poverty_i'\n",
       " 'pregend1' 'pregend2' 'pregnum' 'pregnum_i' 'pregordr' 'prglngth'\n",
       " 'prglngth_i' 'prgoutcome' 'priorsmk' 'probbabe' 'pubassis' 'pubassis_i'\n",
       " 'quitnurs' 'quitnurs2' 'quitnurs3' 'race' 'race_i' 'rcurpreg'\n",
       " 'rcurpreg_i' 'religion' 'religion_i' 'resnouse' 'rmarital' 'rmarital_i'\n",
       " 'rmarout6' 'rmarout6_i' 'secu_p' 'sest' 'stopduse' 'tellfath' 'timingok'\n",
       " 'timokhp' 'toosoon_n' 'toosoon_p' 'totalwgt_lb' 'trimestr' 'tryscale'\n",
       " 'wantbld2' 'wantbold' 'wantpart' 'wantpart_i' 'wantresp' 'wantresp_i'\n",
       " 'wantscal' 'weeksdk' 'whatmeth01' 'whatmeth02' 'whatmeth03' 'whatmeth04'\n",
       " 'whentell' 'wherenow' 'wherenow2' 'wherenow3' 'whynouse1' 'whynouse2'\n",
       " 'whynouse3' 'whyprg1' 'whyprg2' 'whystopd' 'wksgest' 'workborn'\n",
       " 'workpreg' 'wthpart1' 'wthpart2' 'yrstrus'], [0.00409836 0.00819672 0.01229508 0.01639344 0.0204918  0.02459016\n",
       " 0.02868852 0.03278689 0.03688525 0.04098361 0.04508197 0.04918033\n",
       " 0.05327869 0.05737705 0.06147541 0.06557377 0.06967213 0.07377049\n",
       " 0.07786885 0.08196721 0.08606557 0.09016393 0.0942623  0.09836066\n",
       " 0.10245902 0.10655738 0.11065574 0.1147541  0.11885246 0.12295082\n",
       " 0.12704918 0.13114754 0.1352459  0.13934426 0.14344262 0.14754098\n",
       " 0.15163934 0.1557377  0.15983607 0.16393443 0.16803279 0.17213115\n",
       " 0.17622951 0.18032787 0.18442623 0.18852459 0.19262295 0.19672131\n",
       " 0.20081967 0.20491803 0.20901639 0.21311475 0.21721311 0.22131148\n",
       " 0.22540984 0.2295082  0.23360656 0.23770492 0.24180328 0.24590164\n",
       " 0.25       0.25409836 0.25819672 0.26229508 0.26639344 0.2704918\n",
       " 0.27459016 0.27868852 0.28278689 0.28688525 0.29098361 0.29508197\n",
       " 0.29918033 0.30327869 0.30737705 0.31147541 0.31557377 0.31967213\n",
       " 0.32377049 0.32786885 0.33196721 0.33606557 0.34016393 0.3442623\n",
       " 0.34836066 0.35245902 0.35655738 0.36065574 0.3647541  0.36885246\n",
       " 0.37295082 0.37704918 0.38114754 0.3852459  0.38934426 0.39344262\n",
       " 0.39754098 0.40163934 0.4057377  0.40983607 0.41393443 0.41803279\n",
       " 0.42213115 0.42622951 0.43032787 0.43442623 0.43852459 0.44262295\n",
       " 0.44672131 0.45081967 0.45491803 0.45901639 0.46311475 0.46721311\n",
       " 0.47131148 0.47540984 0.4795082  0.48360656 0.48770492 0.49180328\n",
       " 0.49590164 0.5        0.50409836 0.50819672 0.51229508 0.51639344\n",
       " 0.5204918  0.52459016 0.52868852 0.53278689 0.53688525 0.54098361\n",
       " 0.54508197 0.54918033 0.55327869 0.55737705 0.56147541 0.56557377\n",
       " 0.56967213 0.57377049 0.57786885 0.58196721 0.58606557 0.59016393\n",
       " 0.5942623  0.59836066 0.60245902 0.60655738 0.61065574 0.6147541\n",
       " 0.61885246 0.62295082 0.62704918 0.63114754 0.6352459  0.63934426\n",
       " 0.64344262 0.64754098 0.65163934 0.6557377  0.65983607 0.66393443\n",
       " 0.66803279 0.67213115 0.67622951 0.68032787 0.68442623 0.68852459\n",
       " 0.69262295 0.69672131 0.70081967 0.70491803 0.70901639 0.71311475\n",
       " 0.71721311 0.72131148 0.72540984 0.7295082  0.73360656 0.73770492\n",
       " 0.74180328 0.74590164 0.75       0.75409836 0.75819672 0.76229508\n",
       " 0.76639344 0.7704918  0.77459016 0.77868852 0.78278689 0.78688525\n",
       " 0.79098361 0.79508197 0.79918033 0.80327869 0.80737705 0.81147541\n",
       " 0.81557377 0.81967213 0.82377049 0.82786885 0.83196721 0.83606557\n",
       " 0.84016393 0.8442623  0.84836066 0.85245902 0.85655738 0.86065574\n",
       " 0.8647541  0.86885246 0.87295082 0.87704918 0.88114754 0.8852459\n",
       " 0.88934426 0.89344262 0.89754098 0.90163934 0.9057377  0.90983607\n",
       " 0.91393443 0.91803279 0.92213115 0.92622951 0.93032787 0.93442623\n",
       " 0.93852459 0.94262295 0.94672131 0.95081967 0.95491803 0.95901639\n",
       " 0.96311475 0.96721311 0.97131148 0.97540984 0.9795082  0.98360656\n",
       " 0.98770492 0.99180328 0.99590164 1.        ], 'cdf')"
      ]
     },
     "execution_count": 112,
     "metadata": {},
     "output_type": "execute_result"
    }
   ],
   "source": [
    "cdf = thinkstats2.Cdf(complete, label='cdf')\n",
    "cdf"
   ]
  },
  {
   "cell_type": "code",
   "execution_count": 113,
   "metadata": {},
   "outputs": [
    {
     "data": {
      "text/plain": [
       "array(['adj_mod_basewgt', 'ageatend', 'agecon', 'agecon_i', 'agepreg',\n",
       "       'agepreg_i', 'ageqtnur', 'ageqtnur2', 'ageqtnur3', 'ageqtnur_n',\n",
       "       'ageqtnur_n2', 'ageqtnur_n3', 'ageqtnur_p', 'ageqtnur_p2',\n",
       "       'ageqtnur_p3', 'ager', 'ager_i', 'agescrn', 'alivenow',\n",
       "       'alivenow2', 'alivenow3', 'anynurse', 'anynurse2', 'anynurse3',\n",
       "       'anyusint', 'babysex', 'babysex2', 'babysex3', 'basewgt',\n",
       "       'bfeedwks', 'bfeedwks_i', 'bgnprena', 'birthord', 'birthord_i',\n",
       "       'birthplc', 'birthwgt_lb', 'birthwgt_lb2', 'birthwgt_lb3',\n",
       "       'birthwgt_oz', 'birthwgt_oz2', 'birthwgt_oz3', 'bpa_bdscheck1',\n",
       "       'bpa_bdscheck2', 'bpa_bdscheck3', 'brnout', 'caseid', 'cmbabdob',\n",
       "       'cmbirth', 'cmfstprg', 'cmintfin', 'cmintfincr', 'cmintfinop',\n",
       "       'cmintstr', 'cmintstrcr', 'cmintstrop', 'cmintvw', 'cmkidied',\n",
       "       'cmkidied2', 'cmkidied3', 'cmkidlft', 'cmkidlft2', 'cmkidlft3',\n",
       "       'cmlastlb', 'cmlstprg', 'cmotpreg', 'cmprgbeg', 'cmprgend',\n",
       "       'cnfrmno', 'cohpbeg', 'cohpend', 'datecon', 'datecon_i', 'datend',\n",
       "       'datend_i', 'didwork', 'dk1gest', 'dk2gest', 'dk3gest', 'educat',\n",
       "       'educat_i', 'evuseint', 'fedsolid', 'fedsolid2', 'fedsolid3',\n",
       "       'feelinpg', 'finalwgt', 'flgdkmo1', 'fmarcon5', 'fmarcon5_i',\n",
       "       'fmarital', 'fmarital_i', 'fmarout5', 'fmarout5_i', 'frsteatd',\n",
       "       'frsteatd2', 'frsteatd3', 'frsteatd_n', 'frsteatd_n2',\n",
       "       'frsteatd_n3', 'frsteatd_p', 'frsteatd_p2', 'frsteatd_p3',\n",
       "       'gestasun_m', 'gestasun_w', 'getprena', 'hieduc', 'hieduc_i',\n",
       "       'hispanic', 'hispanic_i', 'hisprace', 'hisprace_i', 'howpreg_n',\n",
       "       'howpreg_p', 'hpageend', 'hpagelb', 'hpwnold', 'insuranc',\n",
       "       'insuranc_i', 'kidage', 'knewpreg', 'laborfor', 'laborfor_i',\n",
       "       'lastage', 'lastage2', 'lastage3', 'lbw1', 'lbw1_i', 'learnprg',\n",
       "       'learnprg_i', 'legagree', 'legagree2', 'legagree3', 'livehere',\n",
       "       'livehere2', 'livehere3', 'lobthwgt', 'lobthwgt2', 'lobthwgt3',\n",
       "       'lpnctri', 'ltrimest', 'matchfound', 'matchfound2', 'matchfound3',\n",
       "       'maternlv', 'maternlv_i', 'matleave', 'matweeks', 'metro',\n",
       "       'metro_i', 'moscurrp', 'mosgest', 'multbrth', 'nbrnaliv',\n",
       "       'nowprgdk', 'npostsmk', 'oldwantp', 'oldwantp_i', 'oldwantr',\n",
       "       'oldwantr_i', 'outcome', 'outcome_i', 'parenend', 'parenend2',\n",
       "       'parenend3', 'parity', 'parity_i', 'paybirth1', 'paybirth2',\n",
       "       'paybirth3', 'paydeliv', 'paydeliv_i', 'pmarpreg', 'pmarpreg_i',\n",
       "       'pncarewk', 'pncarewk_i', 'pnctrim', 'postsmks', 'poverty',\n",
       "       'poverty_i', 'pregend1', 'pregend2', 'pregnum', 'pregnum_i',\n",
       "       'pregordr', 'prglngth', 'prglngth_i', 'prgoutcome', 'priorsmk',\n",
       "       'probbabe', 'pubassis', 'pubassis_i', 'quitnurs', 'quitnurs2',\n",
       "       'quitnurs3', 'race', 'race_i', 'rcurpreg', 'rcurpreg_i',\n",
       "       'religion', 'religion_i', 'resnouse', 'rmarital', 'rmarital_i',\n",
       "       'rmarout6', 'rmarout6_i', 'secu_p', 'sest', 'stopduse', 'tellfath',\n",
       "       'timingok', 'timokhp', 'toosoon_n', 'toosoon_p', 'totalwgt_lb',\n",
       "       'trimestr', 'tryscale', 'wantbld2', 'wantbold', 'wantpart',\n",
       "       'wantpart_i', 'wantresp', 'wantresp_i', 'wantscal', 'weeksdk',\n",
       "       'whatmeth01', 'whatmeth02', 'whatmeth03', 'whatmeth04', 'whentell',\n",
       "       'wherenow', 'wherenow2', 'wherenow3', 'whynouse1', 'whynouse2',\n",
       "       'whynouse3', 'whyprg1', 'whyprg2', 'whystopd', 'wksgest',\n",
       "       'workborn', 'workpreg', 'wthpart1', 'wthpart2', 'yrstrus'],\n",
       "      dtype='<U15')"
      ]
     },
     "execution_count": 113,
     "metadata": {},
     "output_type": "execute_result"
    }
   ],
   "source": [
    "#ts = cdf.xs\n",
    "#ss = 1 - cdf.ps\n",
    "cdf.xs"
   ]
  },
  {
   "cell_type": "code",
   "execution_count": 114,
   "metadata": {},
   "outputs": [
    {
     "data": {
      "text/plain": [
       "array([0.00409836, 0.00819672, 0.01229508, 0.01639344, 0.0204918 ,\n",
       "       0.02459016, 0.02868852, 0.03278689, 0.03688525, 0.04098361,\n",
       "       0.04508197, 0.04918033, 0.05327869, 0.05737705, 0.06147541,\n",
       "       0.06557377, 0.06967213, 0.07377049, 0.07786885, 0.08196721,\n",
       "       0.08606557, 0.09016393, 0.0942623 , 0.09836066, 0.10245902,\n",
       "       0.10655738, 0.11065574, 0.1147541 , 0.11885246, 0.12295082,\n",
       "       0.12704918, 0.13114754, 0.1352459 , 0.13934426, 0.14344262,\n",
       "       0.14754098, 0.15163934, 0.1557377 , 0.15983607, 0.16393443,\n",
       "       0.16803279, 0.17213115, 0.17622951, 0.18032787, 0.18442623,\n",
       "       0.18852459, 0.19262295, 0.19672131, 0.20081967, 0.20491803,\n",
       "       0.20901639, 0.21311475, 0.21721311, 0.22131148, 0.22540984,\n",
       "       0.2295082 , 0.23360656, 0.23770492, 0.24180328, 0.24590164,\n",
       "       0.25      , 0.25409836, 0.25819672, 0.26229508, 0.26639344,\n",
       "       0.2704918 , 0.27459016, 0.27868852, 0.28278689, 0.28688525,\n",
       "       0.29098361, 0.29508197, 0.29918033, 0.30327869, 0.30737705,\n",
       "       0.31147541, 0.31557377, 0.31967213, 0.32377049, 0.32786885,\n",
       "       0.33196721, 0.33606557, 0.34016393, 0.3442623 , 0.34836066,\n",
       "       0.35245902, 0.35655738, 0.36065574, 0.3647541 , 0.36885246,\n",
       "       0.37295082, 0.37704918, 0.38114754, 0.3852459 , 0.38934426,\n",
       "       0.39344262, 0.39754098, 0.40163934, 0.4057377 , 0.40983607,\n",
       "       0.41393443, 0.41803279, 0.42213115, 0.42622951, 0.43032787,\n",
       "       0.43442623, 0.43852459, 0.44262295, 0.44672131, 0.45081967,\n",
       "       0.45491803, 0.45901639, 0.46311475, 0.46721311, 0.47131148,\n",
       "       0.47540984, 0.4795082 , 0.48360656, 0.48770492, 0.49180328,\n",
       "       0.49590164, 0.5       , 0.50409836, 0.50819672, 0.51229508,\n",
       "       0.51639344, 0.5204918 , 0.52459016, 0.52868852, 0.53278689,\n",
       "       0.53688525, 0.54098361, 0.54508197, 0.54918033, 0.55327869,\n",
       "       0.55737705, 0.56147541, 0.56557377, 0.56967213, 0.57377049,\n",
       "       0.57786885, 0.58196721, 0.58606557, 0.59016393, 0.5942623 ,\n",
       "       0.59836066, 0.60245902, 0.60655738, 0.61065574, 0.6147541 ,\n",
       "       0.61885246, 0.62295082, 0.62704918, 0.63114754, 0.6352459 ,\n",
       "       0.63934426, 0.64344262, 0.64754098, 0.65163934, 0.6557377 ,\n",
       "       0.65983607, 0.66393443, 0.66803279, 0.67213115, 0.67622951,\n",
       "       0.68032787, 0.68442623, 0.68852459, 0.69262295, 0.69672131,\n",
       "       0.70081967, 0.70491803, 0.70901639, 0.71311475, 0.71721311,\n",
       "       0.72131148, 0.72540984, 0.7295082 , 0.73360656, 0.73770492,\n",
       "       0.74180328, 0.74590164, 0.75      , 0.75409836, 0.75819672,\n",
       "       0.76229508, 0.76639344, 0.7704918 , 0.77459016, 0.77868852,\n",
       "       0.78278689, 0.78688525, 0.79098361, 0.79508197, 0.79918033,\n",
       "       0.80327869, 0.80737705, 0.81147541, 0.81557377, 0.81967213,\n",
       "       0.82377049, 0.82786885, 0.83196721, 0.83606557, 0.84016393,\n",
       "       0.8442623 , 0.84836066, 0.85245902, 0.85655738, 0.86065574,\n",
       "       0.8647541 , 0.86885246, 0.87295082, 0.87704918, 0.88114754,\n",
       "       0.8852459 , 0.88934426, 0.89344262, 0.89754098, 0.90163934,\n",
       "       0.9057377 , 0.90983607, 0.91393443, 0.91803279, 0.92213115,\n",
       "       0.92622951, 0.93032787, 0.93442623, 0.93852459, 0.94262295,\n",
       "       0.94672131, 0.95081967, 0.95491803, 0.95901639, 0.96311475,\n",
       "       0.96721311, 0.97131148, 0.97540984, 0.9795082 , 0.98360656,\n",
       "       0.98770492, 0.99180328, 0.99590164, 1.        ])"
      ]
     },
     "execution_count": 114,
     "metadata": {},
     "output_type": "execute_result"
    }
   ],
   "source": [
    "cdf.ps"
   ]
  },
  {
   "cell_type": "code",
   "execution_count": 115,
   "metadata": {},
   "outputs": [
    {
     "data": {
      "text/plain": [
       "(244, 244)"
      ]
     },
     "execution_count": 115,
     "metadata": {},
     "output_type": "execute_result"
    }
   ],
   "source": [
    "len(cdf.xs),len(cdf.ps)"
   ]
  },
  {
   "cell_type": "code",
   "execution_count": 116,
   "metadata": {},
   "outputs": [
    {
     "data": {
      "text/plain": [
       "244"
      ]
     },
     "execution_count": 116,
     "metadata": {},
     "output_type": "execute_result"
    }
   ],
   "source": [
    "len(preg.columns)"
   ]
  },
  {
   "cell_type": "code",
   "execution_count": 117,
   "metadata": {},
   "outputs": [],
   "source": [
    "ts = cdf.xs\n",
    "ss = 1 - cdf.ps"
   ]
  },
  {
   "cell_type": "code",
   "execution_count": 118,
   "metadata": {},
   "outputs": [
    {
     "data": {
      "text/plain": [
       "array([0.99590164, 0.99180328, 0.98770492, 0.98360656, 0.9795082 ,\n",
       "       0.97540984, 0.97131148, 0.96721311, 0.96311475, 0.95901639,\n",
       "       0.95491803, 0.95081967, 0.94672131, 0.94262295, 0.93852459,\n",
       "       0.93442623, 0.93032787, 0.92622951, 0.92213115, 0.91803279,\n",
       "       0.91393443, 0.90983607, 0.9057377 , 0.90163934, 0.89754098,\n",
       "       0.89344262, 0.88934426, 0.8852459 , 0.88114754, 0.87704918,\n",
       "       0.87295082, 0.86885246, 0.8647541 , 0.86065574, 0.85655738,\n",
       "       0.85245902, 0.84836066, 0.8442623 , 0.84016393, 0.83606557,\n",
       "       0.83196721, 0.82786885, 0.82377049, 0.81967213, 0.81557377,\n",
       "       0.81147541, 0.80737705, 0.80327869, 0.79918033, 0.79508197,\n",
       "       0.79098361, 0.78688525, 0.78278689, 0.77868852, 0.77459016,\n",
       "       0.7704918 , 0.76639344, 0.76229508, 0.75819672, 0.75409836,\n",
       "       0.75      , 0.74590164, 0.74180328, 0.73770492, 0.73360656,\n",
       "       0.7295082 , 0.72540984, 0.72131148, 0.71721311, 0.71311475,\n",
       "       0.70901639, 0.70491803, 0.70081967, 0.69672131, 0.69262295,\n",
       "       0.68852459, 0.68442623, 0.68032787, 0.67622951, 0.67213115,\n",
       "       0.66803279, 0.66393443, 0.65983607, 0.6557377 , 0.65163934,\n",
       "       0.64754098, 0.64344262, 0.63934426, 0.6352459 , 0.63114754,\n",
       "       0.62704918, 0.62295082, 0.61885246, 0.6147541 , 0.61065574,\n",
       "       0.60655738, 0.60245902, 0.59836066, 0.5942623 , 0.59016393,\n",
       "       0.58606557, 0.58196721, 0.57786885, 0.57377049, 0.56967213,\n",
       "       0.56557377, 0.56147541, 0.55737705, 0.55327869, 0.54918033,\n",
       "       0.54508197, 0.54098361, 0.53688525, 0.53278689, 0.52868852,\n",
       "       0.52459016, 0.5204918 , 0.51639344, 0.51229508, 0.50819672,\n",
       "       0.50409836, 0.5       , 0.49590164, 0.49180328, 0.48770492,\n",
       "       0.48360656, 0.4795082 , 0.47540984, 0.47131148, 0.46721311,\n",
       "       0.46311475, 0.45901639, 0.45491803, 0.45081967, 0.44672131,\n",
       "       0.44262295, 0.43852459, 0.43442623, 0.43032787, 0.42622951,\n",
       "       0.42213115, 0.41803279, 0.41393443, 0.40983607, 0.4057377 ,\n",
       "       0.40163934, 0.39754098, 0.39344262, 0.38934426, 0.3852459 ,\n",
       "       0.38114754, 0.37704918, 0.37295082, 0.36885246, 0.3647541 ,\n",
       "       0.36065574, 0.35655738, 0.35245902, 0.34836066, 0.3442623 ,\n",
       "       0.34016393, 0.33606557, 0.33196721, 0.32786885, 0.32377049,\n",
       "       0.31967213, 0.31557377, 0.31147541, 0.30737705, 0.30327869,\n",
       "       0.29918033, 0.29508197, 0.29098361, 0.28688525, 0.28278689,\n",
       "       0.27868852, 0.27459016, 0.2704918 , 0.26639344, 0.26229508,\n",
       "       0.25819672, 0.25409836, 0.25      , 0.24590164, 0.24180328,\n",
       "       0.23770492, 0.23360656, 0.2295082 , 0.22540984, 0.22131148,\n",
       "       0.21721311, 0.21311475, 0.20901639, 0.20491803, 0.20081967,\n",
       "       0.19672131, 0.19262295, 0.18852459, 0.18442623, 0.18032787,\n",
       "       0.17622951, 0.17213115, 0.16803279, 0.16393443, 0.15983607,\n",
       "       0.1557377 , 0.15163934, 0.14754098, 0.14344262, 0.13934426,\n",
       "       0.1352459 , 0.13114754, 0.12704918, 0.12295082, 0.11885246,\n",
       "       0.1147541 , 0.11065574, 0.10655738, 0.10245902, 0.09836066,\n",
       "       0.0942623 , 0.09016393, 0.08606557, 0.08196721, 0.07786885,\n",
       "       0.07377049, 0.06967213, 0.06557377, 0.06147541, 0.05737705,\n",
       "       0.05327869, 0.04918033, 0.04508197, 0.04098361, 0.03688525,\n",
       "       0.03278689, 0.02868852, 0.02459016, 0.0204918 , 0.01639344,\n",
       "       0.01229508, 0.00819672, 0.00409836, 0.        ])"
      ]
     },
     "execution_count": 118,
     "metadata": {},
     "output_type": "execute_result"
    }
   ],
   "source": [
    "ss"
   ]
  },
  {
   "cell_type": "code",
   "execution_count": 119,
   "metadata": {},
   "outputs": [
    {
     "data": {
      "text/plain": [
       "[0.00411522633744862,\n",
       " 0.004132231404958627,\n",
       " 0.004149377593361057,\n",
       " 0.004166666666666615,\n",
       " 0.004184100418410103,\n",
       " 0.004201680672268855,\n",
       " 0.004219409282700484,\n",
       " 0.004237288135593167,\n",
       " 0.004255319148936233,\n",
       " 0.00427350427350422,\n",
       " 0.004291845493562295,\n",
       " 0.004310344827586154,\n",
       " 0.004329004329004275,\n",
       " 0.004347826086956585,\n",
       " 0.004366812227074182,\n",
       " 0.004385964912280766,\n",
       " 0.00440528634361228,\n",
       " 0.004424778761062012,\n",
       " 0.004444444444444389,\n",
       " 0.00446428571428578,\n",
       " 0.00448430493273537,\n",
       " 0.004504504504504448,\n",
       " 0.004524886877828121,\n",
       " 0.004545454545454612,\n",
       " 0.004566210045662044,\n",
       " 0.004587155963302695,\n",
       " 0.004608294930875644,\n",
       " 0.004629629629629572,\n",
       " 0.004651162790697742,\n",
       " 0.004672897196261625,\n",
       " 0.004694835680751242,\n",
       " 0.004716981132075413,\n",
       " 0.004739336492891065,\n",
       " 0.004761904761904703,\n",
       " 0.004784688995215252,\n",
       " 0.004807692307692378,\n",
       " 0.004830917874396206,\n",
       " 0.004854368932038775,\n",
       " 0.004878048780487744,\n",
       " 0.004901960784313797,\n",
       " 0.004926108374384175,\n",
       " 0.0049504950495050225,\n",
       " 0.004975124378109391,\n",
       " 0.005000000000000073,\n",
       " 0.005025125628140641,\n",
       " 0.005050505050505125,\n",
       " 0.005076142131979633,\n",
       " 0.005102040816326467,\n",
       " 0.005128205128205203,\n",
       " 0.005154639175257807,\n",
       " 0.005181347150259003,\n",
       " 0.005208333333333269,\n",
       " 0.005235602094240914,\n",
       " 0.005263157894736777,\n",
       " 0.005291005291005369,\n",
       " 0.005319148936170147,\n",
       " 0.005347593582887634,\n",
       " 0.005376344086021584,\n",
       " 0.005405405405405485,\n",
       " 0.005434782608695585,\n",
       " 0.005464480874316872,\n",
       " 0.005494505494505575,\n",
       " 0.00552486187845312,\n",
       " 0.005555555555555487,\n",
       " 0.0055865921787708805,\n",
       " 0.00561797752808997,\n",
       " 0.0056497175141242235,\n",
       " 0.005681818181818265,\n",
       " 0.005714285714285643,\n",
       " 0.005747126436781538,\n",
       " 0.005780346820809332,\n",
       " 0.005813953488372178,\n",
       " 0.005847953216374197,\n",
       " 0.005882352941176398,\n",
       " 0.005917159763313696,\n",
       " 0.00595238095238104,\n",
       " 0.005988023952095734,\n",
       " 0.006024096385542094,\n",
       " 0.006060606060605985,\n",
       " 0.006097560975609845,\n",
       " 0.006134969325153464,\n",
       " 0.006172839506172763,\n",
       " 0.006211180124223525,\n",
       " 0.006250000000000091,\n",
       " 0.006289308176100721,\n",
       " 0.006329113924050555,\n",
       " 0.006369426751592277,\n",
       " 0.006410256410256504,\n",
       " 0.006451612903225901,\n",
       " 0.006493506493506413,\n",
       " 0.006535947712418219,\n",
       " 0.006578947368420971,\n",
       " 0.006622516556291487,\n",
       " 0.006666666666666764,\n",
       " 0.006711409395973072,\n",
       " 0.006756756756756673,\n",
       " 0.006802721088435473,\n",
       " 0.006849315068493251,\n",
       " 0.006896551724137846,\n",
       " 0.006944444444444358,\n",
       " 0.006993006993007095,\n",
       " 0.007042253521126864,\n",
       " 0.007092198581560197,\n",
       " 0.007142857142857054,\n",
       " 0.007194244604316457,\n",
       " 0.007246376811594308,\n",
       " 0.007299270072992807,\n",
       " 0.007352941176470497,\n",
       " 0.007407407407407315,\n",
       " 0.007462686567164287,\n",
       " 0.007518796992481314,\n",
       " 0.007575757575757482,\n",
       " 0.007633587786259447,\n",
       " 0.007692307692307805,\n",
       " 0.007751937984496028,\n",
       " 0.007812500000000114,\n",
       " 0.007874015748031399,\n",
       " 0.007936507936507837,\n",
       " 0.008000000000000116,\n",
       " 0.008064516129032376,\n",
       " 0.008130081300812908,\n",
       " 0.008196721311475308,\n",
       " 0.008264462809917475,\n",
       " 0.00833333333333323,\n",
       " 0.008403361344537938,\n",
       " 0.008474576271186335,\n",
       " 0.008547008547008671,\n",
       " 0.008620689655172308,\n",
       " 0.00869565217391317,\n",
       " 0.008771929824561295,\n",
       " 0.008849557522124024,\n",
       " 0.008928571428571319,\n",
       " 0.00900900900900914,\n",
       " 0.00909090909090898,\n",
       " 0.00917431192660539,\n",
       " 0.009259259259259394,\n",
       " 0.00934579439252325,\n",
       " 0.00943396226415108,\n",
       " 0.009523809523809407,\n",
       " 0.009615384615384756,\n",
       " 0.00970873786407755,\n",
       " 0.009803921568627595,\n",
       " 0.00990099009900978,\n",
       " 0.010000000000000146,\n",
       " 0.010101010101009977,\n",
       " 0.010204081632652934,\n",
       " 0.010309278350515613,\n",
       " 0.010416666666666538,\n",
       " 0.010526315789473837,\n",
       " 0.010638297872340293,\n",
       " 0.010752688172043168,\n",
       " 0.01086956521739117,\n",
       " 0.01098901098901115,\n",
       " 0.011111111111110974,\n",
       " 0.01123595505617994,\n",
       " 0.011363636363636223,\n",
       " 0.011494252873563386,\n",
       " 0.011627906976744044,\n",
       " 0.011764705882352795,\n",
       " 0.011904761904762078,\n",
       " 0.012048192771084189,\n",
       " 0.01219512195121969,\n",
       " 0.012345679012345526,\n",
       " 0.012500000000000183,\n",
       " 0.01265822784810111,\n",
       " 0.012820512820513007,\n",
       " 0.012987012987012827,\n",
       " 0.013157894736842297,\n",
       " 0.01333333333333317,\n",
       " 0.013513513513513346,\n",
       " 0.0136986301369865,\n",
       " 0.013888888888888716,\n",
       " 0.014084507042253726,\n",
       " 0.014285714285714108,\n",
       " 0.014492753623188616,\n",
       " 0.014705882352940994,\n",
       " 0.014925373134328575,\n",
       " 0.015151515151514965,\n",
       " 0.01538461538461561,\n",
       " 0.015624999999999807,\n",
       " 0.015873015873016105,\n",
       " 0.016129032258064318,\n",
       " 0.016393442622950616,\n",
       " 0.016666666666666906,\n",
       " 0.01694915254237267,\n",
       " 0.017241379310345077,\n",
       " 0.01754385964912259,\n",
       " 0.017857142857143116,\n",
       " 0.01818181818181796,\n",
       " 0.018518518518518788,\n",
       " 0.018867924528301654,\n",
       " 0.019230769230769513,\n",
       " 0.019607843137254662,\n",
       " 0.020000000000000292,\n",
       " 0.020408163265305874,\n",
       " 0.020833333333333075,\n",
       " 0.02127659574468116,\n",
       " 0.02173913043478234,\n",
       " 0.022222222222222542,\n",
       " 0.022727272727272447,\n",
       " 0.02325581395348871,\n",
       " 0.023809523809523517,\n",
       " 0.02439024390243938,\n",
       " 0.024999999999999696,\n",
       " 0.025641025641026015,\n",
       " 0.02631578947368389,\n",
       " 0.027027027027026692,\n",
       " 0.027777777777778175,\n",
       " 0.028571428571428217,\n",
       " 0.029411764705882776,\n",
       " 0.03030303030302993,\n",
       " 0.03125000000000045,\n",
       " 0.032258064516128636,\n",
       " 0.03333333333333381,\n",
       " 0.03448275862068924,\n",
       " 0.03571428571428623,\n",
       " 0.03703703703703659,\n",
       " 0.038461538461539026,\n",
       " 0.03999999999999952,\n",
       " 0.04166666666666615,\n",
       " 0.043478260869565834,\n",
       " 0.045454545454544894,\n",
       " 0.047619047619048296,\n",
       " 0.04999999999999939,\n",
       " 0.052631578947369174,\n",
       " 0.055555555555554886,\n",
       " 0.05882352941176555,\n",
       " 0.06249999999999926,\n",
       " 0.06666666666666762,\n",
       " 0.0714285714285706,\n",
       " 0.07692307692307596,\n",
       " 0.08333333333333447,\n",
       " 0.09090909090908979,\n",
       " 0.10000000000000135,\n",
       " 0.11111111111110977,\n",
       " 0.1250000000000017,\n",
       " 0.1428571428571412,\n",
       " 0.16666666666666893,\n",
       " 0.19999999999999785,\n",
       " 0.2500000000000034,\n",
       " 0.3333333333333303,\n",
       " 0.5000000000000068,\n",
       " 1.0]"
      ]
     },
     "execution_count": 119,
     "metadata": {},
     "output_type": "execute_result"
    }
   ],
   "source": [
    "hf = []\n",
    "for i in range(len(ss[:-1])):\n",
    "    hf.append((ss[i]-ss[i+1])/ss[i])\n",
    "hf"
   ]
  },
  {
   "cell_type": "code",
   "execution_count": null,
   "metadata": {},
   "outputs": [],
   "source": []
  }
 ],
 "metadata": {
  "kernelspec": {
   "display_name": "Python 3",
   "language": "python",
   "name": "python3"
  },
  "language_info": {
   "codemirror_mode": {
    "name": "ipython",
    "version": 3
   },
   "file_extension": ".py",
   "mimetype": "text/x-python",
   "name": "python",
   "nbconvert_exporter": "python",
   "pygments_lexer": "ipython3",
   "version": "3.7.7"
  }
 },
 "nbformat": 4,
 "nbformat_minor": 4
}
