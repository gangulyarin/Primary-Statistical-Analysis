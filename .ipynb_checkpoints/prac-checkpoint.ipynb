{
 "cells": [
  {
   "cell_type": "code",
   "execution_count": 1,
   "metadata": {},
   "outputs": [],
   "source": [
    "from __future__ import print_function, division\n",
    "\n",
    "import nsfg"
   ]
  },
  {
   "cell_type": "code",
   "execution_count": 2,
   "metadata": {},
   "outputs": [
    {
     "name": "stdout",
     "output_type": "stream",
     "text": [
      "   caseid  pregordr  howpreg_n  howpreg_p  moscurrp  nowprgdk  pregend1  \\\n",
      "0       1         1        NaN        NaN       NaN       NaN       6.0   \n",
      "1       1         2        NaN        NaN       NaN       NaN       6.0   \n",
      "2       2         1        NaN        NaN       NaN       NaN       5.0   \n",
      "3       2         2        NaN        NaN       NaN       NaN       6.0   \n",
      "4       2         3        NaN        NaN       NaN       NaN       6.0   \n",
      "\n",
      "   pregend2  nbrnaliv  multbrth  ...  laborfor_i  religion_i  metro_i  \\\n",
      "0       NaN       1.0       NaN  ...           0           0        0   \n",
      "1       NaN       1.0       NaN  ...           0           0        0   \n",
      "2       NaN       3.0       5.0  ...           0           0        0   \n",
      "3       NaN       1.0       NaN  ...           0           0        0   \n",
      "4       NaN       1.0       NaN  ...           0           0        0   \n",
      "\n",
      "       basewgt  adj_mod_basewgt      finalwgt  secu_p  sest  cmintvw  \\\n",
      "0  3410.389399      3869.349602   6448.271112       2     9      NaN   \n",
      "1  3410.389399      3869.349602   6448.271112       2     9      NaN   \n",
      "2  7226.301740      8567.549110  12999.542264       2    12      NaN   \n",
      "3  7226.301740      8567.549110  12999.542264       2    12      NaN   \n",
      "4  7226.301740      8567.549110  12999.542264       2    12      NaN   \n",
      "\n",
      "   totalwgt_lb  \n",
      "0       8.8125  \n",
      "1       7.8750  \n",
      "2       9.1250  \n",
      "3       7.0000  \n",
      "4       6.1875  \n",
      "\n",
      "[5 rows x 244 columns]\n"
     ]
    }
   ],
   "source": [
    "preg = nsfg.ReadFemPreg()\n",
    "print(preg.head())"
   ]
  },
  {
   "cell_type": "code",
   "execution_count": 4,
   "metadata": {},
   "outputs": [
    {
     "data": {
      "text/plain": [
       "Index(['caseid', 'pregordr', 'howpreg_n', 'howpreg_p', 'moscurrp', 'nowprgdk',\n",
       "       'pregend1', 'pregend2', 'nbrnaliv', 'multbrth',\n",
       "       ...\n",
       "       'laborfor_i', 'religion_i', 'metro_i', 'basewgt', 'adj_mod_basewgt',\n",
       "       'finalwgt', 'secu_p', 'sest', 'cmintvw', 'totalwgt_lb'],\n",
       "      dtype='object', length=244)"
      ]
     },
     "execution_count": 4,
     "metadata": {},
     "output_type": "execute_result"
    }
   ],
   "source": [
    "preg.columns"
   ]
  },
  {
   "cell_type": "code",
   "execution_count": 5,
   "metadata": {},
   "outputs": [
    {
     "data": {
      "text/plain": [
       "pandas.core.series.Series"
      ]
     },
     "execution_count": 5,
     "metadata": {},
     "output_type": "execute_result"
    }
   ],
   "source": [
    "type(preg['pregordr'])"
   ]
  },
  {
   "cell_type": "code",
   "execution_count": 6,
   "metadata": {},
   "outputs": [
    {
     "data": {
      "text/plain": [
       "0        1\n",
       "1        2\n",
       "2        1\n",
       "3        2\n",
       "4        3\n",
       "        ..\n",
       "13588    1\n",
       "13589    2\n",
       "13590    3\n",
       "13591    4\n",
       "13592    5\n",
       "Name: pregordr, Length: 13593, dtype: int64"
      ]
     },
     "execution_count": 6,
     "metadata": {},
     "output_type": "execute_result"
    }
   ],
   "source": [
    "preg['pregordr']"
   ]
  },
  {
   "cell_type": "code",
   "execution_count": 14,
   "metadata": {},
   "outputs": [
    {
     "data": {
      "text/plain": [
       "0         6448.271112\n",
       "1         6448.271112\n",
       "2        12999.542264\n",
       "3        12999.542264\n",
       "4        12999.542264\n",
       "             ...     \n",
       "13588     6269.200989\n",
       "13589     6269.200989\n",
       "13590     6269.200989\n",
       "13591     6269.200989\n",
       "13592     6269.200989\n",
       "Name: finalwgt, Length: 13593, dtype: float64"
      ]
     },
     "execution_count": 14,
     "metadata": {},
     "output_type": "execute_result"
    }
   ],
   "source": [
    "preg['finalwgt']"
   ]
  },
  {
   "cell_type": "code",
   "execution_count": 17,
   "metadata": {},
   "outputs": [
    {
     "data": {
      "text/plain": [
       "0.0     1037\n",
       "8.0      756\n",
       "6.0      709\n",
       "2.0      603\n",
       "11.0     557\n",
       "12.0     555\n",
       "5.0      535\n",
       "3.0      533\n",
       "4.0      525\n",
       "9.0      505\n",
       "7.0      501\n",
       "13.0     487\n",
       "10.0     475\n",
       "14.0     475\n",
       "1.0      408\n",
       "15.0     378\n",
       "Name: birthwgt_oz, dtype: int64"
      ]
     },
     "execution_count": 17,
     "metadata": {},
     "output_type": "execute_result"
    }
   ],
   "source": [
    "preg['birthwgt_oz'].value_counts()"
   ]
  },
  {
   "cell_type": "code",
   "execution_count": 18,
   "metadata": {},
   "outputs": [],
   "source": [
    "%config IPCompleter.greedy=True"
   ]
  },
  {
   "cell_type": "code",
   "execution_count": 19,
   "metadata": {},
   "outputs": [
    {
     "data": {
      "text/plain": [
       "0        8.8125\n",
       "1        7.8750\n",
       "2        9.1250\n",
       "3        7.0000\n",
       "4        6.1875\n",
       "          ...  \n",
       "13588    6.1875\n",
       "13589       NaN\n",
       "13590       NaN\n",
       "13591    7.5000\n",
       "13592    7.5000\n",
       "Name: totalwgt_lb, Length: 13593, dtype: float64"
      ]
     },
     "execution_count": 19,
     "metadata": {},
     "output_type": "execute_result"
    }
   ],
   "source": [
    "preg['totalwgt_lb']"
   ]
  },
  {
   "cell_type": "code",
   "execution_count": 21,
   "metadata": {},
   "outputs": [
    {
     "data": {
      "text/plain": [
       "1    9148\n",
       "2    1862\n",
       "3     120\n",
       "4    1921\n",
       "5     190\n",
       "6     352\n",
       "Name: outcome, dtype: int64"
      ]
     },
     "execution_count": 21,
     "metadata": {},
     "output_type": "execute_result"
    }
   ],
   "source": [
    "preg['outcome'].value_counts().sort_index()"
   ]
  },
  {
   "cell_type": "code",
   "execution_count": 26,
   "metadata": {},
   "outputs": [
    {
     "data": {
      "text/plain": [
       "0.0        8\n",
       "1.0       40\n",
       "2.0       53\n",
       "3.0       98\n",
       "4.0      229\n",
       "5.0      697\n",
       "6.0     2223\n",
       "7.0     3049\n",
       "8.0     1889\n",
       "9.0      623\n",
       "10.0     132\n",
       "11.0      26\n",
       "12.0      10\n",
       "13.0       3\n",
       "14.0       3\n",
       "15.0       1\n",
       "Name: birthwgt_lb, dtype: int64"
      ]
     },
     "execution_count": 26,
     "metadata": {},
     "output_type": "execute_result"
    }
   ],
   "source": [
    "preg['birthwgt_lb'].value_counts().sort_index()"
   ]
  },
  {
   "cell_type": "code",
   "execution_count": 27,
   "metadata": {},
   "outputs": [
    {
     "data": {
      "text/plain": [
       "'\\nvalue\\tlabel\\t \\t        Total\\n1\\tLIVE BIRTH              9148\\n2\\tINDUCED ABORTION        1862\\n3\\tSTILLBIRTH               120\\n4\\tMISCARRIAGE             1921\\n5\\tECTOPIC PREGNANCY        190\\n6\\tCURRENT PREGNANCY        352\\n'"
      ]
     },
     "execution_count": 27,
     "metadata": {},
     "output_type": "execute_result"
    }
   ],
   "source": [
    "\"\"\"\n",
    "value\tlabel\t \t        Total\n",
    "1\tLIVE BIRTH              9148\n",
    "2\tINDUCED ABORTION        1862\n",
    "3\tSTILLBIRTH               120\n",
    "4\tMISCARRIAGE             1921\n",
    "5\tECTOPIC PREGNANCY        190\n",
    "6\tCURRENT PREGNANCY        352\n",
    "\"\"\""
   ]
  },
  {
   "cell_type": "code",
   "execution_count": 28,
   "metadata": {},
   "outputs": [
    {
     "data": {
      "text/plain": [
       "[11093, 11094, 11095, 11096, 11097, 11098, 11099]"
      ]
     },
     "execution_count": 28,
     "metadata": {},
     "output_type": "execute_result"
    }
   ],
   "source": [
    "preg_map = nsfg.MakePregMap(preg)\n",
    "preg_map[10229]"
   ]
  },
  {
   "cell_type": "code",
   "execution_count": 29,
   "metadata": {},
   "outputs": [
    {
     "data": {
      "text/plain": [
       "array([4, 4, 4, 4, 4, 4, 1], dtype=int64)"
      ]
     },
     "execution_count": 29,
     "metadata": {},
     "output_type": "execute_result"
    }
   ],
   "source": [
    "preg.outcome[preg_map[10229]].values"
   ]
  },
  {
   "cell_type": "code",
   "execution_count": 30,
   "metadata": {},
   "outputs": [
    {
     "data": {
      "text/plain": [
       "Hist({1: 1, 2: 3, 3: 1, 5: 1})"
      ]
     },
     "execution_count": 30,
     "metadata": {},
     "output_type": "execute_result"
    }
   ],
   "source": [
    "import thinkstats2\n",
    "hist = thinkstats2.Hist([1,2,2,2,3,5])\n",
    "hist"
   ]
  },
  {
   "cell_type": "code",
   "execution_count": 31,
   "metadata": {},
   "outputs": [
    {
     "data": {
      "text/plain": [
       "3"
      ]
     },
     "execution_count": 31,
     "metadata": {},
     "output_type": "execute_result"
    }
   ],
   "source": [
    "hist.Freq(2)"
   ]
  },
  {
   "cell_type": "code",
   "execution_count": 33,
   "metadata": {},
   "outputs": [
    {
     "data": {
      "text/plain": [
       "[1, 2, 3, 5]"
      ]
     },
     "execution_count": 33,
     "metadata": {},
     "output_type": "execute_result"
    }
   ],
   "source": [
    "list(hist.Values())"
   ]
  },
  {
   "cell_type": "code",
   "execution_count": 34,
   "metadata": {},
   "outputs": [
    {
     "data": {
      "text/plain": [
       "dict_items([(1, 1), (2, 3), (3, 1), (5, 1)])"
      ]
     },
     "execution_count": 34,
     "metadata": {},
     "output_type": "execute_result"
    }
   ],
   "source": [
    "hist.Items()"
   ]
  },
  {
   "cell_type": "code",
   "execution_count": 35,
   "metadata": {},
   "outputs": [
    {
     "data": {
      "text/plain": [
       "[(1, 1), (2, 3), (3, 1), (5, 1)]"
      ]
     },
     "execution_count": 35,
     "metadata": {},
     "output_type": "execute_result"
    }
   ],
   "source": [
    "list(hist.Items())"
   ]
  },
  {
   "cell_type": "code",
   "execution_count": 36,
   "metadata": {},
   "outputs": [],
   "source": [
    "# Live Births:\n",
    "live = preg[preg['outcome']==1]"
   ]
  },
  {
   "cell_type": "code",
   "execution_count": 50,
   "metadata": {},
   "outputs": [
    {
     "data": {
      "text/plain": [
       "15.4375"
      ]
     },
     "execution_count": 50,
     "metadata": {},
     "output_type": "execute_result"
    }
   ],
   "source": [
    "import numpy as np\n",
    "np.max(live.totalwgt_lb)"
   ]
  },
  {
   "cell_type": "code",
   "execution_count": 56,
   "metadata": {},
   "outputs": [
    {
     "data": {
      "text/plain": [
       "array([ 0.125     ,  1.82638889,  3.52777778,  5.22916667,  6.93055556,\n",
       "        8.63194444, 10.33333333, 12.03472222, 13.73611111, 15.4375    ])"
      ]
     },
     "execution_count": 56,
     "metadata": {},
     "output_type": "execute_result"
    }
   ],
   "source": [
    "bins = np.linspace(np.min(live.totalwgt_lb), np.max(live.totalwgt_lb),10)\n",
    "bins"
   ]
  },
  {
   "cell_type": "code",
   "execution_count": 63,
   "metadata": {},
   "outputs": [
    {
     "name": "stderr",
     "output_type": "stream",
     "text": [
      "C:\\Users\\ARINDAM\\AppData\\Local\\Programs\\Python\\Python37\\lib\\site-packages\\numpy\\lib\\histograms.py:839: RuntimeWarning: invalid value encountered in greater_equal\n",
      "  keep = (tmp_a >= first_edge)\n",
      "C:\\Users\\ARINDAM\\AppData\\Local\\Programs\\Python\\Python37\\lib\\site-packages\\numpy\\lib\\histograms.py:840: RuntimeWarning: invalid value encountered in less_equal\n",
      "  keep &= (tmp_a <= last_edge)\n"
     ]
    },
    {
     "data": {
      "image/png": "[encoded data removed]",
      "text/plain": [
       "<Figure size 432x288 with 1 Axes>"
      ]
     },
     "metadata": {
      "needs_background": "light"
     },
     "output_type": "display_data"
    }
   ],
   "source": [
    "import matplotlib.pyplot as plt\n",
    "\n",
    "#range = np.min(live.totalwgt_lb) - np.max(live.totalwgt_lb)\n",
    "plt.style.use('seaborn-deep')\n",
    "\n",
    "plt.hist(live.totalwgt_lb, bins=10, label='totalwgt_lb')\n",
    "plt.legend(loc='upper right')\n",
    "plt.show()"
   ]
  },
  {
   "cell_type": "code",
   "execution_count": 39,
   "metadata": {},
   "outputs": [
    {
     "data": {
      "image/png": "[encoded data removed]",
      "text/plain": [
       "<Figure size 432x288 with 1 Axes>"
      ]
     },
     "metadata": {
      "needs_background": "light"
     },
     "output_type": "display_data"
    }
   ],
   "source": [
    "plt.hist(live.birthwgt_oz)\n",
    "plt.show()"
   ]
  },
  {
   "cell_type": "code",
   "execution_count": 40,
   "metadata": {},
   "outputs": [
    {
     "data": {
      "image/png": "[encoded data removed]",
      "text/plain": [
       "<Figure size 432x288 with 1 Axes>"
      ]
     },
     "metadata": {
      "needs_background": "light"
     },
     "output_type": "display_data"
    }
   ],
   "source": [
    "plt.hist(live.agepreg) # Age of mothers at the end of pregnancy\n",
    "plt.show()"
   ]
  },
  {
   "cell_type": "code",
   "execution_count": 41,
   "metadata": {},
   "outputs": [
    {
     "data": {
      "image/png": "[encoded data removed]",
      "text/plain": [
       "<Figure size 432x288 with 1 Axes>"
      ]
     },
     "metadata": {
      "needs_background": "light"
     },
     "output_type": "display_data"
    }
   ],
   "source": [
    "plt.hist(live.prglngth) # Length of pregnancy in weeks\n",
    "plt.show()"
   ]
  },
  {
   "cell_type": "code",
   "execution_count": 43,
   "metadata": {},
   "outputs": [
    {
     "data": {
      "text/plain": [
       "0        1\n",
       "4        1\n",
       "9        1\n",
       "13       1\n",
       "17       2\n",
       "18       1\n",
       "19       1\n",
       "20       1\n",
       "21       2\n",
       "22       7\n",
       "23       1\n",
       "24      13\n",
       "25       3\n",
       "26      35\n",
       "27       3\n",
       "28      32\n",
       "29      21\n",
       "30     138\n",
       "31      27\n",
       "32     115\n",
       "33      49\n",
       "34      60\n",
       "35     311\n",
       "36     321\n",
       "37     455\n",
       "38     607\n",
       "39    4693\n",
       "40    1116\n",
       "41     587\n",
       "42     328\n",
       "43     148\n",
       "44      46\n",
       "45      10\n",
       "46       1\n",
       "47       1\n",
       "48       7\n",
       "50       2\n",
       "Name: prglngth, dtype: int64"
      ]
     },
     "execution_count": 43,
     "metadata": {},
     "output_type": "execute_result"
    }
   ],
   "source": [
    "live.prglngth.value_counts().sort_index()"
   ]
  },
  {
   "cell_type": "code",
   "execution_count": 44,
   "metadata": {},
   "outputs": [
    {
     "name": "stdout",
     "output_type": "stream",
     "text": [
      "0 1\n",
      "4 1\n",
      "9 1\n",
      "13 1\n",
      "17 2\n",
      "18 1\n",
      "19 1\n",
      "20 1\n",
      "21 2\n",
      "22 7\n"
     ]
    }
   ],
   "source": [
    "prglngth_hist = thinkstats2.Hist(live.prglngth)\n",
    "for w,i in prglngth_hist.Smallest(10):\n",
    "    print(w,i)"
   ]
  },
  {
   "cell_type": "code",
   "execution_count": 46,
   "metadata": {},
   "outputs": [
    {
     "name": "stdout",
     "output_type": "stream",
     "text": [
      "50 2\n",
      "48 7\n",
      "47 1\n",
      "46 1\n",
      "45 10\n",
      "44 46\n",
      "43 148\n",
      "42 328\n",
      "41 587\n",
      "40 1116\n"
     ]
    }
   ],
   "source": [
    "for w,i in prglngth_hist.Largest(10):\n",
    "    print(w,i)"
   ]
  },
  {
   "cell_type": "code",
   "execution_count": 69,
   "metadata": {},
   "outputs": [
    {
     "data": {
      "image/png": "[encoded data removed]",
      "text/plain": [
       "<Figure size 432x288 with 1 Axes>"
      ]
     },
     "metadata": {
      "needs_background": "light"
     },
     "output_type": "display_data"
    }
   ],
   "source": [
    "firsts = live[live.birthord==1]\n",
    "others = live[live.birthord!=1]\n",
    "\n",
    "plt.hist([firsts.prglngth, others.prglngth], bins=25, label=['firsts', 'others'])\n",
    "plt.legend(loc='upper right')\n",
    "plt.show()\n"
   ]
  },
  {
   "cell_type": "code",
   "execution_count": 70,
   "metadata": {},
   "outputs": [
    {
     "name": "stdout",
     "output_type": "stream",
     "text": [
      "38.56055968517709 2.702343810070587\n"
     ]
    }
   ],
   "source": [
    "mean = live.prglngth.mean()\n",
    "var = live.prglngth.var()\n",
    "std = live.prglngth.std()\n",
    "print(mean,std)"
   ]
  },
  {
   "cell_type": "code",
   "execution_count": 71,
   "metadata": {},
   "outputs": [
    {
     "data": {
      "text/plain": [
       "'\\nFor all live births, the mean pregnancy length is 38.6 weeks, the standard deviation is 2.7 weeks, \\nwhich means we should expect deviations of 2-3 weeks to be common.\\n'"
      ]
     },
     "execution_count": 71,
     "metadata": {},
     "output_type": "execute_result"
    }
   ],
   "source": [
    "\"\"\"\n",
    "For all live births, the mean pregnancy length is 38.6 weeks, the standard deviation is 2.7 weeks, \n",
    "which means we should expect deviations of 2-3 weeks to be common.\n",
    "\"\"\""
   ]
  },
  {
   "cell_type": "code",
   "execution_count": 72,
   "metadata": {},
   "outputs": [
    {
     "data": {
      "image/png": "[encoded data removed]",
      "text/plain": [
       "<Figure size 432x288 with 1 Axes>"
      ]
     },
     "metadata": {
      "needs_background": "light"
     },
     "output_type": "display_data"
    }
   ],
   "source": [
    "plt.hist([firsts.totalwgt_lb, others.totalwgt_lb], bins=25, label=['firsts totalwgt_lb', 'others totalwgt_lb'])\n",
    "plt.legend(loc='upper right')\n",
    "plt.show()"
   ]
  },
  {
   "cell_type": "code",
   "execution_count": 75,
   "metadata": {},
   "outputs": [],
   "source": [
    "import math\n",
    "def CohenEffectSize(group1, group2):\n",
    "    diff = group1.mean() - group2.mean()\n",
    "\n",
    "    var1 = group1.var()\n",
    "    var2 = group2.var()\n",
    "    n1, n2 = len(group1), len(group2)\n",
    "\n",
    "    pooled_var = (n1 * var1 + n2 * var2) / (n1 + n2)\n",
    "    d = diff / math.sqrt(pooled_var)\n",
    "    return d"
   ]
  },
  {
   "cell_type": "code",
   "execution_count": 76,
   "metadata": {},
   "outputs": [
    {
     "data": {
      "text/plain": [
       "0.028879044654449834"
      ]
     },
     "execution_count": 76,
     "metadata": {},
     "output_type": "execute_result"
    }
   ],
   "source": [
    "# First Baby prglngth\n",
    "CohenEffectSize(firsts.prglngth,others.prglngth)"
   ]
  },
  {
   "cell_type": "code",
   "execution_count": 77,
   "metadata": {},
   "outputs": [
    {
     "data": {
      "text/plain": [
       "-0.08867292707260174"
      ]
     },
     "execution_count": 77,
     "metadata": {},
     "output_type": "execute_result"
    }
   ],
   "source": [
    "# First Baby totalwgt_lb\n",
    "CohenEffectSize(firsts.totalwgt_lb,others.totalwgt_lb)"
   ]
  },
  {
   "cell_type": "code",
   "execution_count": 88,
   "metadata": {},
   "outputs": [
    {
     "data": {
      "text/plain": [
       "{1: 0.2, 2: 0.4, 3: 0.2, 5: 0.2}"
      ]
     },
     "execution_count": 88,
     "metadata": {},
     "output_type": "execute_result"
    }
   ],
   "source": [
    "def pmf(seq):\n",
    "    #unique_vals = set(seq)\n",
    "    freq_dict = {}\n",
    "    for i in seq:\n",
    "        if i in freq_dict:\n",
    "            freq_dict[i]+=1\n",
    "        else:\n",
    "            freq_dict[i] = 1\n",
    "    N = len(seq)\n",
    "    pmf_dict = {}\n",
    "    for k,v in freq_dict.items():\n",
    "        pmf_dict[k] = v/N\n",
    "    return pmf_dict\n",
    "\n",
    "pmf([1, 2, 2, 3, 5])"
   ]
  },
  {
   "cell_type": "code",
   "execution_count": 99,
   "metadata": {},
   "outputs": [
    {
     "data": {
      "text/plain": [
       "{39: 0.47903920235667347,\n",
       " 38: 0.0616360752322683,\n",
       " 33: 0.0063448900974393836,\n",
       " 41: 0.08157715839564922,\n",
       " 42: 0.04645365964196692,\n",
       " 36: 0.03897575345569907,\n",
       " 40: 0.12145932472241106,\n",
       " 37: 0.04713346929526399,\n",
       " 35: 0.03602991162474507,\n",
       " 43: 0.01971447994561523,\n",
       " 32: 0.012463176977113076,\n",
       " 24: 0.0015862225243598459,\n",
       " 44: 0.005211874008610922,\n",
       " 30: 0.016542034896895538,\n",
       " 28: 0.005438477226376614,\n",
       " 31: 0.003399048266485384,\n",
       " 34: 0.006571493315205076,\n",
       " 26: 0.0036256514842510764,\n",
       " 20: 0.00022660321776569228,\n",
       " 48: 0.0006798096532970768,\n",
       " 29: 0.0020394289598912306,\n",
       " 45: 0.0013596193065941536,\n",
       " 27: 0.00022660321776569228,\n",
       " 0: 0.00022660321776569228,\n",
       " 21: 0.00022660321776569228,\n",
       " 17: 0.00022660321776569228,\n",
       " 25: 0.00022660321776569228,\n",
       " 22: 0.0006798096532970768,\n",
       " 47: 0.00022660321776569228,\n",
       " 23: 0.00022660321776569228,\n",
       " 46: 0.00022660321776569228}"
      ]
     },
     "execution_count": 99,
     "metadata": {},
     "output_type": "execute_result"
    }
   ],
   "source": [
    "pmf_firsts_prglngth = pmf(firsts.prglngth)\n",
    "pmf_others_prglngth = pmf(others.prglngth)\n",
    "pmf_firsts_prglngth"
   ]
  },
  {
   "cell_type": "code",
   "execution_count": 100,
   "metadata": {},
   "outputs": [
    {
     "data": {
      "image/png": "[encoded data removed]",
      "text/plain": [
       "<Figure size 432x288 with 1 Axes>"
      ]
     },
     "metadata": {
      "needs_background": "light"
     },
     "output_type": "display_data"
    }
   ],
   "source": [
    "plt.step(list(pmf_firsts_prglngth.keys()),\n",
    "         list(pmf_firsts_prglngth.values()), \n",
    "         label='firsts prglngth')\n",
    "plt.legend(loc='upper right')\n",
    "plt.show()"
   ]
  },
  {
   "cell_type": "code",
   "execution_count": 112,
   "metadata": {},
   "outputs": [
    {
     "data": {
      "image/png": "[encoded data removed]",
      "text/plain": [
       "<Figure size 432x288 with 1 Axes>"
      ]
     },
     "metadata": {
      "needs_background": "light"
     },
     "output_type": "display_data"
    }
   ],
   "source": [
    "from collections import OrderedDict\n",
    "\n",
    "sorted_pmf_firsts_prglngth = OrderedDict(sorted(pmf_firsts_prglngth.items()))\n",
    "\n",
    "plt.step(list(sorted_pmf_firsts_prglngth.keys()),\n",
    "         list(sorted_pmf_firsts_prglngth.values()), \n",
    "         label='firsts prglngth')\n",
    "plt.legend(loc='upper left')\n",
    "plt.show()"
   ]
  },
  {
   "cell_type": "code",
   "execution_count": 105,
   "metadata": {},
   "outputs": [],
   "source": [
    "def EvalCdf(t, x):\n",
    "    count = 0.0\n",
    "    for value in t:\n",
    "        if value <= x:\n",
    "            count += 1\n",
    "\n",
    "    prob = count / len(t)\n",
    "    return prob"
   ]
  },
  {
   "cell_type": "code",
   "execution_count": 107,
   "metadata": {},
   "outputs": [
    {
     "data": {
      "text/plain": [
       "{0,\n",
       " 4,\n",
       " 9,\n",
       " 13,\n",
       " 17,\n",
       " 18,\n",
       " 19,\n",
       " 20,\n",
       " 21,\n",
       " 22,\n",
       " 23,\n",
       " 24,\n",
       " 25,\n",
       " 26,\n",
       " 27,\n",
       " 28,\n",
       " 29,\n",
       " 30,\n",
       " 31,\n",
       " 32,\n",
       " 33,\n",
       " 34,\n",
       " 35,\n",
       " 36,\n",
       " 37,\n",
       " 38,\n",
       " 39,\n",
       " 40,\n",
       " 41,\n",
       " 42,\n",
       " 43,\n",
       " 44,\n",
       " 45,\n",
       " 46,\n",
       " 47,\n",
       " 48,\n",
       " 50}"
      ]
     },
     "execution_count": 107,
     "metadata": {},
     "output_type": "execute_result"
    }
   ],
   "source": [
    "cdf = {}\n",
    "nums = set(live.prglngth)\n",
    "nums"
   ]
  },
  {
   "cell_type": "code",
   "execution_count": 109,
   "metadata": {},
   "outputs": [
    {
     "data": {
      "text/plain": [
       "{0: 0.00010931351114997814,\n",
       " 4: 0.00021862702229995628,\n",
       " 9: 0.00032794053344993443,\n",
       " 13: 0.00043725404459991256,\n",
       " 17: 0.0006558810668998689,\n",
       " 18: 0.000765194578049847,\n",
       " 19: 0.0008745080891998251,\n",
       " 20: 0.0009838216003498032,\n",
       " 21: 0.0012024486226497595,\n",
       " 22: 0.0019676432006996065,\n",
       " 23: 0.0020769567118495845,\n",
       " 24: 0.0034980323567993005,\n",
       " 25: 0.003825972890249235,\n",
       " 26: 0.00765194578049847,\n",
       " 27: 0.007979886313948404,\n",
       " 28: 0.011477918670747704,\n",
       " 29: 0.013773502404897246,\n",
       " 30: 0.028858766943594228,\n",
       " 31: 0.03181023174464364,\n",
       " 32: 0.04438128552689112,\n",
       " 33: 0.049737647573240056,\n",
       " 34: 0.056296458242238744,\n",
       " 35: 0.09029296020988194,\n",
       " 36: 0.12538259728902493,\n",
       " 37: 0.17512024486226496,\n",
       " 38: 0.2414735461303017,\n",
       " 39: 0.7544818539571491,\n",
       " 40: 0.8764757324005247,\n",
       " 41: 0.9406427634455619,\n",
       " 42: 0.9764975951027547,\n",
       " 43: 0.9926759947529514,\n",
       " 44: 0.9977044162658505,\n",
       " 45: 0.9987975513773503,\n",
       " 46: 0.9989068648885002,\n",
       " 47: 0.9990161783996502,\n",
       " 48: 0.9997813729777001,\n",
       " 50: 1.0}"
      ]
     },
     "execution_count": 109,
     "metadata": {},
     "output_type": "execute_result"
    }
   ],
   "source": [
    "for i in nums:\n",
    "    cdf[i] = EvalCdf(live.prglngth,i)\n",
    "cdf"
   ]
  },
  {
   "cell_type": "code",
   "execution_count": 110,
   "metadata": {},
   "outputs": [
    {
     "data": {
      "image/png": "[encoded data removed]",
      "text/plain": [
       "<Figure size 432x288 with 1 Axes>"
      ]
     },
     "metadata": {
      "needs_background": "light"
     },
     "output_type": "display_data"
    }
   ],
   "source": [
    "plt.step(list(cdf.keys()), list(cdf.values()))\n",
    "plt.show()"
   ]
  },
  {
   "cell_type": "code",
   "execution_count": null,
   "metadata": {},
   "outputs": [],
   "source": []
  }
 ],
 "metadata": {
  "kernelspec": {
   "display_name": "Python 3",
   "language": "python",
   "name": "python3"
  },
  "language_info": {
   "codemirror_mode": {
    "name": "ipython",
    "version": 3
   },
   "file_extension": ".py",
   "mimetype": "text/x-python",
   "name": "python",
   "nbconvert_exporter": "python",
   "pygments_lexer": "ipython3",
   "version": "3.7.7"
  }
 },
 "nbformat": 4,
 "nbformat_minor": 4
}
